{
 "cells": [
  {
   "cell_type": "code",
   "execution_count": 1,
   "id": "10a0904d",
   "metadata": {},
   "outputs": [
    {
     "name": "stdout",
     "output_type": "stream",
     "text": [
      "Requirement already satisfied: statsmodels in c:\\users\\user\\anaconda3\\lib\\site-packages (0.13.2)\n",
      "Requirement already satisfied: numpy>=1.17 in c:\\users\\user\\anaconda3\\lib\\site-packages (from statsmodels) (1.21.5)\n",
      "Requirement already satisfied: scipy>=1.3 in c:\\users\\user\\anaconda3\\lib\\site-packages (from statsmodels) (1.9.1)\n",
      "Requirement already satisfied: pandas>=0.25 in c:\\users\\user\\anaconda3\\lib\\site-packages (from statsmodels) (1.4.4)\n",
      "Requirement already satisfied: patsy>=0.5.2 in c:\\users\\user\\anaconda3\\lib\\site-packages (from statsmodels) (0.5.2)\n",
      "Requirement already satisfied: packaging>=21.3 in c:\\users\\user\\anaconda3\\lib\\site-packages (from statsmodels) (21.3)\n",
      "Requirement already satisfied: pyparsing!=3.0.5,>=2.0.2 in c:\\users\\user\\anaconda3\\lib\\site-packages (from packaging>=21.3->statsmodels) (3.0.9)\n",
      "Requirement already satisfied: pytz>=2020.1 in c:\\users\\user\\anaconda3\\lib\\site-packages (from pandas>=0.25->statsmodels) (2022.1)\n",
      "Requirement already satisfied: python-dateutil>=2.8.1 in c:\\users\\user\\anaconda3\\lib\\site-packages (from pandas>=0.25->statsmodels) (2.8.2)\n",
      "Requirement already satisfied: six in c:\\users\\user\\anaconda3\\lib\\site-packages (from patsy>=0.5.2->statsmodels) (1.16.0)\n"
     ]
    }
   ],
   "source": [
    "!pip install statsmodels"
   ]
  },
  {
   "cell_type": "code",
   "execution_count": 4,
   "id": "afcc7e8c",
   "metadata": {},
   "outputs": [
    {
     "name": "stdout",
     "output_type": "stream",
     "text": [
      "                            OLS Regression Results                            \n",
      "==============================================================================\n",
      "Dep. Variable:            Commissions   R-squared:                       0.855\n",
      "Model:                            OLS   Adj. R-squared:                  0.835\n",
      "Method:                 Least Squares   F-statistic:                     41.39\n",
      "Date:                Sat, 22 Apr 2023   Prob (F-statistic):           5.38e-09\n",
      "Time:                        01:57:57   Log-Likelihood:                -68.739\n",
      "No. Observations:                  25   AIC:                             145.5\n",
      "Df Residuals:                      21   BIC:                             150.4\n",
      "Df Model:                           3                                         \n",
      "Covariance Type:            nonrobust                                         \n",
      "===============================================================================\n",
      "                  coef    std err          t      P>|t|      [0.025      0.975]\n",
      "-------------------------------------------------------------------------------\n",
      "const        -421.6004    158.339     -2.663      0.015    -750.884     -92.317\n",
      "Calls           2.8689      1.112      2.580      0.017       0.557       5.181\n",
      "MilesDriven     0.1305      0.056      2.324      0.030       0.014       0.247\n",
      "Interaction    -0.0008      0.000     -2.042      0.054      -0.002    1.48e-05\n",
      "==============================================================================\n",
      "Omnibus:                        1.683   Durbin-Watson:                   2.046\n",
      "Prob(Omnibus):                  0.431   Jarque-Bera (JB):                1.044\n",
      "Skew:                           0.129   Prob(JB):                        0.593\n",
      "Kurtosis:                       2.033   Cond. No.                     7.79e+07\n",
      "==============================================================================\n",
      "\n",
      "Notes:\n",
      "[1] Standard Errors assume that the covariance matrix of the errors is correctly specified.\n",
      "[2] The condition number is large, 7.79e+07. This might indicate that there are\n",
      "strong multicollinearity or other numerical problems.\n"
     ]
    }
   ],
   "source": [
    "import numpy as np\n",
    "import pandas as pd\n",
    "import statsmodels.api as sm\n",
    "\n",
    "# Input data\n",
    "data = {\n",
    "    'Commissions': [22, 13, 34, 39, 23, 47, 30, 38, 42, 33, 20, 14, 47, 39, 45, 30, 39, 37, 15, 34, 25, 28, 26, 43, 35],\n",
    "    'Calls': [143, 136, 146, 142, 142, 146, 141, 139, 148, 138, 138, 138, 150, 149, 145, 149, 145, 153, 135, 146, 133, 132, 130, 155, 148],\n",
    "    'MilesDriven': [2374, 2227, 2733, 3351, 2293, 3450, 3117, 3344, 2843, 2629, 2124, 2223, 3465, 3291, 3106, 2125, 2792, 3213, 2287, 2851, 2690, 2936, 2671, 2992, 2830]\n",
    "}\n",
    "\n",
    "df = pd.DataFrame(data)\n",
    "\n",
    "# Create the interaction term between Calls and MilesDriven\n",
    "df['Interaction'] = df['Calls'] * df['MilesDriven']\n",
    "\n",
    "# Define dependent variable (y) and independent variables (x1, x2, and interaction term)\n",
    "y = df['Commissions']\n",
    "x = df[['Calls', 'MilesDriven', 'Interaction']]\n",
    "\n",
    "# Add a constant (intercept) to the independent variables\n",
    "x = sm.add_constant(x)\n",
    "\n",
    "# Fit the multiple regression model with the interaction term\n",
    "model = sm.OLS(y, x).fit()\n",
    "\n",
    "# Print the summary of the results\n",
    "print(model.summary())"
   ]
  },
  {
   "cell_type": "code",
   "execution_count": 5,
   "id": "5ba09b17",
   "metadata": {},
   "outputs": [
    {
     "name": "stdout",
     "output_type": "stream",
     "text": [
      "-2.04\n"
     ]
    }
   ],
   "source": [
    "# Get the t-value for the interaction term\n",
    "t_value_interaction = model.tvalues['Interaction']\n",
    "\n",
    "# Print the t-value rounded to 2 decimal places\n",
    "print(round(t_value_interaction, 2))"
   ]
  },
  {
   "cell_type": "code",
   "execution_count": 6,
   "id": "285f92b9",
   "metadata": {},
   "outputs": [
    {
     "name": "stdout",
     "output_type": "stream",
     "text": [
      "0.05391846258288806\n"
     ]
    }
   ],
   "source": [
    "# Get the p-value for the interaction term\n",
    "p_value_interaction = model.pvalues['Interaction']\n",
    "\n",
    "# Print the p-value\n",
    "print(p_value_interaction)"
   ]
  },
  {
   "cell_type": "code",
   "execution_count": 7,
   "id": "8f18e676",
   "metadata": {},
   "outputs": [],
   "source": [
    "import pandas as pd\n",
    "import numpy as np\n",
    "import statsmodels.api as sm\n",
    "\n",
    "data = {\n",
    "    'Family': [1, 2, 3, 4, 5, 6, 7, 8, 9, 10],\n",
    "    'SqrFt': [2240, 2380, 3500, 3360, 3000, 2900, 4100, 2520, 4200, 2800],\n",
    "    'Income': [60.8, 68.4, 104.5, 89.3, 72.2, 114, 125.4, 83.6, 133, 95],\n",
    "    'Size': [2, 2, 3, 4, 4, 3, 6, 3, 5, 3],\n",
    "    'Senior': [0, 1, 0, 1, 0, 1, 0, 0, 0, 0],\n",
    "    'Education': [4, 6, 7, 0, 2, 10, 6, 8, 2, 6]\n",
    "}\n",
    "\n",
    "df = pd.DataFrame(data)"
   ]
  },
  {
   "cell_type": "code",
   "execution_count": 8,
   "id": "1977b7f8",
   "metadata": {},
   "outputs": [
    {
     "name": "stdout",
     "output_type": "stream",
     "text": [
      "Added Size with p-value 0.001\n",
      "The selected features are: Size\n",
      "                            OLS Regression Results                            \n",
      "==============================================================================\n",
      "Dep. Variable:                  SqrFt   R-squared:                       0.796\n",
      "Model:                            OLS   Adj. R-squared:                  0.771\n",
      "Method:                 Least Squares   F-statistic:                     31.25\n",
      "Date:                Sat, 22 Apr 2023   Prob (F-statistic):           0.000516\n",
      "Time:                        02:28:25   Log-Likelihood:                -70.944\n",
      "No. Observations:                  10   AIC:                             145.9\n",
      "Df Residuals:                       8   BIC:                             146.5\n",
      "Df Model:                           1                                         \n",
      "Covariance Type:            nonrobust                                         \n",
      "==============================================================================\n",
      "                 coef    std err          t      P>|t|      [0.025      0.975]\n",
      "------------------------------------------------------------------------------\n",
      "const       1424.8276    316.910      4.496      0.002     694.032    2155.623\n",
      "Size         478.6207     85.620      5.590      0.001     281.180     676.061\n",
      "==============================================================================\n",
      "Omnibus:                        3.303   Durbin-Watson:                   2.212\n",
      "Prob(Omnibus):                  0.192   Jarque-Bera (JB):                1.407\n",
      "Skew:                           0.919   Prob(JB):                        0.495\n",
      "Kurtosis:                       3.001   Cond. No.                         12.1\n",
      "==============================================================================\n",
      "\n",
      "Notes:\n",
      "[1] Standard Errors assume that the covariance matrix of the errors is correctly specified.\n"
     ]
    },
    {
     "name": "stderr",
     "output_type": "stream",
     "text": [
      "C:\\Users\\user\\AppData\\Local\\Temp\\ipykernel_15208\\1936305107.py:6: FutureWarning: The default dtype for empty Series will be 'object' instead of 'float64' in a future version. Specify a dtype explicitly to silence this warning.\n",
      "  new_pval = pd.Series(index=excluded)\n",
      "C:\\Users\\user\\AppData\\Local\\Temp\\ipykernel_15208\\1936305107.py:6: FutureWarning: The default dtype for empty Series will be 'object' instead of 'float64' in a future version. Specify a dtype explicitly to silence this warning.\n",
      "  new_pval = pd.Series(index=excluded)\n",
      "C:\\Users\\user\\anaconda3\\lib\\site-packages\\scipy\\stats\\_stats_py.py:1769: UserWarning: kurtosistest only valid for n>=20 ... continuing anyway, n=10\n",
      "  warnings.warn(\"kurtosistest only valid for n>=20 ... continuing \"\n"
     ]
    }
   ],
   "source": [
    "def stepwise_selection(X, y, initial_list=[], threshold_in=0.01, threshold_out=0.05, verbose=True):\n",
    "    included = list(initial_list)\n",
    "    while True:\n",
    "        changed = False\n",
    "        excluded = list(set(X.columns) - set(included))\n",
    "        new_pval = pd.Series(index=excluded)\n",
    "        for new_column in excluded:\n",
    "            model = sm.OLS(y, sm.add_constant(pd.DataFrame(X[included + [new_column]]))).fit()\n",
    "            new_pval[new_column] = model.pvalues[new_column]\n",
    "        best_pval = new_pval.min()\n",
    "        if best_pval < threshold_in:\n",
    "            best_feature = new_pval.idxmin()\n",
    "            included.append(best_feature)\n",
    "            changed = True\n",
    "            if verbose:\n",
    "                print(f'Added {best_feature} with p-value {best_pval:.3f}')\n",
    "\n",
    "        model = sm.OLS(y, sm.add_constant(pd.DataFrame(X[included]))).fit()\n",
    "        pvalues = model.pvalues.iloc[1:]\n",
    "        worst_pval = pvalues.max()\n",
    "        if worst_pval > threshold_out:\n",
    "            changed = True\n",
    "            worst_feature = pvalues.idxmax()\n",
    "            included.remove(worst_feature)\n",
    "            if verbose:\n",
    "                print(f'Removed {worst_feature} with p-value {worst_pval:.3f}')\n",
    "\n",
    "        if not changed:\n",
    "            break\n",
    "\n",
    "    return included\n",
    "\n",
    "X = df[['Size', 'Income']]\n",
    "y = df['SqrFt']\n",
    "\n",
    "selected_features = stepwise_selection(X, y)\n",
    "\n",
    "print(f'The selected features are: {\", \".join(selected_features)}')\n",
    "\n",
    "final_model = sm.OLS(y, sm.add_constant(df[selected_features])).fit()\n",
    "print(final_model.summary())"
   ]
  },
  {
   "cell_type": "code",
   "execution_count": 10,
   "id": "4e4ffcd1",
   "metadata": {},
   "outputs": [
    {
     "name": "stdout",
     "output_type": "stream",
     "text": [
      "Correlation Coefficient: 0.94\n"
     ]
    }
   ],
   "source": [
    "import pandas as pd\n",
    "import numpy as np\n",
    "\n",
    "data = {\n",
    "    'Manufacturer': ['Sharp', 'Samsung', 'Samsung', 'Sony', 'Sharp', 'Samsung', 'Samsung', 'Sharp', 'Sharp', 'Sony', 'Sony', 'Samsung', 'Sharp', 'Sharp', 'Sharp', 'Samsung', 'Sharp', 'Samsung', 'Sony', 'Sony', 'Sony', 'Sony', 'Sony'],\n",
    "    'Screen (in inches)': [47, 32, 45, 38, 39, 52, 41, 38, 48, 51, 30, 43, 35, 43, 52, 43, 37, 47, 48, 38, 50, 34, 48],\n",
    "    'Price ($)': [1102.00, 423.25, 1141.00, 754.75, 661.00, 1446.00, 995.25, 586.00, 1622.50, 1659.00, 481.50, 868.00, 609.00, 1062.00, 1604.00, 853.50, 530.25, 1159.00, 1609.00, 549.25, 1578.25, 427.50, 1470.00]\n",
    "}\n",
    "\n",
    "df = pd.DataFrame(data)\n",
    "\n",
    "correlation_coefficient = np.corrcoef(df['Screen (in inches)'], df['Price ($)'])[0, 1]\n",
    "\n",
    "print(f\"Correlation Coefficient: {correlation_coefficient:.2f}\")\n"
   ]
  },
  {
   "cell_type": "code",
   "execution_count": 11,
   "id": "69b51592",
   "metadata": {},
   "outputs": [
    {
     "name": "stdout",
     "output_type": "stream",
     "text": [
      "Regression Equation: Price = 63.09 * Screen Size + -1677.03\n"
     ]
    }
   ],
   "source": [
    "import pandas as pd\n",
    "import statsmodels.formula.api as smf\n",
    "\n",
    "data = {\n",
    "    'Manufacturer': ['Sharp', 'Samsung', 'Samsung', 'Sony', 'Sharp', 'Samsung', 'Samsung', 'Sharp', 'Sharp', 'Sony', 'Sony', 'Samsung', 'Sharp', 'Sharp', 'Sharp', 'Samsung', 'Sharp', 'Samsung', 'Sony', 'Sony', 'Sony', 'Sony', 'Sony'],\n",
    "    'Screen (in inches)': [47, 32, 45, 38, 39, 52, 41, 38, 48, 51, 30, 43, 35, 43, 52, 43, 37, 47, 48, 38, 50, 34, 48],\n",
    "    'Price ($)': [1102.00, 423.25, 1141.00, 754.75, 661.00, 1446.00, 995.25, 586.00, 1622.50, 1659.00, 481.50, 868.00, 609.00, 1062.00, 1604.00, 853.50, 530.25, 1159.00, 1609.00, 549.25, 1578.25, 427.50, 1470.00]\n",
    "}\n",
    "\n",
    "df = pd.DataFrame(data)\n",
    "\n",
    "# Fit the linear regression model\n",
    "model = smf.ols('Q(\"Price ($)\") ~ Q(\"Screen (in inches)\")', data=df).fit()\n",
    "\n",
    "# Print the regression equation\n",
    "print(f\"Regression Equation: Price = {model.params[1]:.2f} * Screen Size + {model.params[0]:.2f}\")"
   ]
  },
  {
   "cell_type": "code",
   "execution_count": 13,
   "id": "007260cd",
   "metadata": {},
   "outputs": [
    {
     "name": "stdout",
     "output_type": "stream",
     "text": [
      "Regression Equation: Price = 63.744 * Screen Size + 156.431 * Sony + 46.432 * Sharp + -1775.509\n"
     ]
    }
   ],
   "source": [
    "import pandas as pd\n",
    "import statsmodels.formula.api as smf\n",
    "\n",
    "data = {\n",
    "    'Manufacturer': ['Sharp', 'Samsung', 'Samsung', 'Sony', 'Sharp', 'Samsung', 'Samsung', 'Sharp', 'Sharp', 'Sony', 'Sony', 'Samsung', 'Sharp', 'Sharp', 'Sharp', 'Samsung', 'Sharp', 'Samsung', 'Sony', 'Sony', 'Sony', 'Sony', 'Sony'],\n",
    "    'Screen (in inches)': [47, 32, 45, 38, 39, 52, 41, 38, 48, 51, 30, 43, 35, 43, 52, 43, 37, 47, 48, 38, 50, 34, 48],\n",
    "    'Price ($)': [1102.00, 423.25, 1141.00, 754.75, 661.00, 1446.00, 995.25, 586.00, 1622.50, 1659.00, 481.50, 868.00, 609.00, 1062.00, 1604.00, 853.50, 530.25, 1159.00, 1609.00, 549.25, 1578.25, 427.50, 1470.00]\n",
    "}\n",
    "\n",
    "df = pd.DataFrame(data)\n",
    "\n",
    "# Create the Sony and Sharp dummy variables\n",
    "df['Sony'] = df['Manufacturer'].apply(lambda x: 1 if x == 'Sony' else 0)\n",
    "df['Sharp'] = df['Manufacturer'].apply(lambda x: 1 if x == 'Sharp' else 0)\n",
    "\n",
    "# Fit the multiple regression model\n",
    "model = smf.ols('Q(\"Price ($)\") ~ Q(\"Screen (in inches)\") + Sony + Sharp', data=df).fit()\n",
    "\n",
    "# Print the regression equation\n",
    "print(f\"Regression Equation: Price = {model.params[1]:.3f} * Screen Size + {model.params[2]:.3f} * Sony + {model.params[3]:.3f} * Sharp + {model.params[0]:.3f}\")"
   ]
  },
  {
   "cell_type": "code",
   "execution_count": 14,
   "id": "554f4f05",
   "metadata": {},
   "outputs": [
    {
     "name": "stdout",
     "output_type": "stream",
     "text": [
      "Intercept                  -8.478452\n",
      "Q(\"Screen (in inches)\")    13.640958\n",
      "Sony                        2.101605\n",
      "Sharp                       0.624444\n",
      "dtype: float64\n",
      "Intercept                  6.998115e-08\n",
      "Q(\"Screen (in inches)\")    2.889670e-11\n",
      "Sony                       4.915783e-02\n",
      "Sharp                      5.397629e-01\n",
      "dtype: float64\n"
     ]
    }
   ],
   "source": [
    "\n",
    "data = {\n",
    "    'Manufacturer': ['Sharp', 'Samsung', 'Samsung', 'Sony', 'Sharp', 'Samsung', 'Samsung', 'Sharp', 'Sharp', 'Sony', 'Sony', 'Samsung', 'Sharp', 'Sharp', 'Sharp', 'Samsung', 'Sharp', 'Samsung', 'Sony', 'Sony', 'Sony', 'Sony', 'Sony'],\n",
    "    'Screen (in inches)': [47, 32, 45, 38, 39, 52, 41, 38, 48, 51, 30, 43, 35, 43, 52, 43, 37, 47, 48, 38, 50, 34, 48],\n",
    "    'Price ($)': [1102.00, 423.25, 1141.00, 754.75, 661.00, 1446.00, 995.25, 586.00, 1622.50, 1659.00, 481.50, 868.00, 609.00, 1062.00, 1604.00, 853.50, 530.25, 1159.00, 1609.00, 549.25, 1578.25, 427.50, 1470.00]\n",
    "}\n",
    "\n",
    "df = pd.DataFrame(data)\n",
    "\n",
    "# Create the Sony and Sharp dummy variables\n",
    "df['Sony'] = df['Manufacturer'].apply(lambda x: 1 if x == 'Sony' else 0)\n",
    "df['Sharp'] = df['Manufacturer'].apply(lambda x: 1 if x == 'Sharp' else 0)\n",
    "\n",
    "# Fit the multiple regression model\n",
    "model = smf.ols('Q(\"Price ($)\") ~ Q(\"Screen (in inches)\") + Sony + Sharp', data=df).fit()\n",
    "\n",
    "# Print the t-values and p-values for each coefficient\n",
    "print(model.tvalues)\n",
    "print(model.pvalues)"
   ]
  },
  {
   "cell_type": "code",
   "execution_count": 17,
   "id": "457ba1fb",
   "metadata": {},
   "outputs": [
    {
     "data": {
      "image/png": "[encoded data removed]",
      "text/plain": [
       "<Figure size 1000x500 with 2 Axes>"
      ]
     },
     "metadata": {},
     "output_type": "display_data"
    }
   ],
   "source": [
    "import pandas as pd\n",
    "import statsmodels.formula.api as smf\n",
    "import matplotlib.pyplot as plt\n",
    "\n",
    "data = {\n",
    "    'Manufacturer': ['Sharp', 'Samsung', 'Samsung', 'Sony', 'Sharp', 'Samsung', 'Samsung', 'Sharp', 'Sharp', 'Sony', 'Sony', 'Samsung', 'Sharp', 'Sharp', 'Sharp', 'Samsung', 'Sharp', 'Samsung', 'Sony', 'Sony', 'Sony', 'Sony', 'Sony'],\n",
    "    'Screen (in inches)': [47, 32, 45, 38, 39, 52, 41, 38, 48, 51, 30, 43, 35, 43, 52, 43, 37, 47, 48, 38, 50, 34, 48],\n",
    "    'Price ($)': [1102.00, 423.25, 1141.00, 754.75, 661.00, 1446.00, 995.25, 586.00, 1622.50, 1659.00, 481.50, 868.00, 609.00, 1062.00, 1604.00, 853.50, 530.25, 1159.00, 1609.00, 549.25, 1578.25, 427.50, 1470.00]\n",
    "}\n",
    "\n",
    "df = pd.DataFrame(data)\n",
    "\n",
    "# Create the Sony and Sharp dummy variables\n",
    "df['Sony'] = df['Manufacturer'].apply(lambda x: 1 if x == 'Sony' else 0)\n",
    "df['Sharp'] = df['Manufacturer'].apply(lambda x: 1 if x == 'Sharp' else 0)\n",
    "\n",
    "# Fit the multiple regression model\n",
    "model = smf.ols('Q(\"Price ($)\") ~ Q(\"Screen (in inches)\") + Sony + Sharp', data=df).fit()\n",
    "\n",
    "# Plot the residuals in histograms\n",
    "residuals = model.resid\n",
    "fig, axs = plt.subplots(1, 2, figsize=(10, 5))\n",
    "axs[0].hist(residuals, bins=10)\n",
    "axs[0].set_title('Histogram of Residuals')\n",
    "axs[0].set_xlabel('Residuals')\n",
    "axs[0].set_ylabel('Frequency')\n",
    "sm.qqplot(residuals, line='s', ax=axs[1])\n",
    "axs[1].set_title('QQ Plot of Residuals')\n",
    "plt.show()"
   ]
  },
  {
   "cell_type": "code",
   "execution_count": 18,
   "id": "961bcc27",
   "metadata": {},
   "outputs": [
    {
     "data": {
      "image/png": "[encoded data removed]",
      "text/plain": [
       "<Figure size 800x500 with 1 Axes>"
      ]
     },
     "metadata": {},
     "output_type": "display_data"
    }
   ],
   "source": [
    "import pandas as pd\n",
    "import statsmodels.formula.api as smf\n",
    "import matplotlib.pyplot as plt\n",
    "import numpy as np\n",
    "\n",
    "data = {\n",
    "    'Manufacturer': ['Sharp', 'Samsung', 'Samsung', 'Sony', 'Sharp', 'Samsung', 'Samsung', 'Sharp', 'Sharp', 'Sony', 'Sony', 'Samsung', 'Sharp', 'Sharp', 'Sharp', 'Samsung', 'Sharp', 'Samsung', 'Sony', 'Sony', 'Sony', 'Sony', 'Sony'],\n",
    "    'Screen (in inches)': [47, 32, 45, 38, 39, 52, 41, 38, 48, 51, 30, 43, 35, 43, 52, 43, 37, 47, 48, 38, 50, 34, 48],\n",
    "    'Price ($)': [1102.00, 423.25, 1141.00, 754.75, 661.00, 1446.00, 995.25, 586.00, 1622.50, 1659.00, 481.50, 868.00, 609.00, 1062.00, 1604.00, 853.50, 530.25, 1159.00, 1609.00, 549.25, 1578.25, 427.50, 1470.00]\n",
    "}\n",
    "\n",
    "df = pd.DataFrame(data)\n",
    "\n",
    "# Create the Sony and Sharp dummy variables\n",
    "df['Sony'] = df['Manufacturer'].apply(lambda x: 1 if x == 'Sony' else 0)\n",
    "df['Sharp'] = df['Manufacturer'].apply(lambda x: 1 if x == 'Sharp' else 0)\n",
    "\n",
    "# Fit the multiple regression model\n",
    "model = smf.ols('Q(\"Price ($)\") ~ Q(\"Screen (in inches)\") + Sony + Sharp', data=df).fit()\n",
    "\n",
    "# Plot the residuals versus the fitted values\n",
    "fitted_values = model.predict()\n",
    "residuals = model.resid\n",
    "fig, ax = plt.subplots(figsize=(8, 5))\n",
    "ax.scatter(fitted_values, residuals)\n",
    "ax.axhline(y=0, color='r', linestyle='-')\n",
    "ax.set_xlabel('Fitted Values')\n",
    "ax.set_ylabel('Residuals')\n",
    "ax.set_title('Residuals vs Fitted Values')\n",
    "plt.show()"
   ]
  },
  {
   "cell_type": "code",
   "execution_count": 19,
   "id": "99a9a7d8",
   "metadata": {},
   "outputs": [
    {
     "name": "stdout",
     "output_type": "stream",
     "text": [
      "        Family   Food  Income   Size\n",
      "Family   1.000  0.364  -0.063  0.129\n",
      "Food     0.364  1.000   0.155  0.494\n",
      "Income  -0.063  0.155   1.000  0.121\n",
      "Size     0.129  0.494   0.121  1.000\n"
     ]
    }
   ],
   "source": [
    "import pandas as pd\n",
    "import numpy as np\n",
    "\n",
    "data = {\n",
    "    \"Family\": np.arange(1, 26),\n",
    "    \"Food\": [4.07, 4.08, 5.76, 3.48, 4.20, 4.80, 4.32, 5.04, 6.12, 3.24, 4.80, 3.24, 5.48, 3.77, 6.60, 5.40, 6.00, 5.40, 3.36, 4.68, 4.32, 5.52, 4.56, 5.40, 7.80],\n",
    "    \"Income\": [73.98, 54.90, 62.89, 52.02, 65.70, 53.64, 79.74, 68.58, 165.60, 64.80, 138.42, 125.82, 77.58, 134.04, 166.04, 141.30, 36.90, 56.88, 71.82, 69.48, 54.36, 87.66, 38.16, 43.74, 67.57],\n",
    "    \"Size\": [5, 2, 4, 1, 2, 4, 3, 4, 5, 1, 3, 1, 7, 5, 5, 3, 5, 4, 1, 3, 2, 5, 3, 7, 2],\n",
    "}\n",
    "\n",
    "df = pd.DataFrame(data)\n",
    "correlation_matrix = df.corr().round(3)\n",
    "print(correlation_matrix)"
   ]
  },
  {
   "cell_type": "code",
   "execution_count": 34,
   "id": "d5319c67",
   "metadata": {},
   "outputs": [
    {
     "name": "stdout",
     "output_type": "stream",
     "text": [
      "                            OLS Regression Results                            \n",
      "==============================================================================\n",
      "Dep. Variable:                   Food   R-squared:                       0.253\n",
      "Model:                            OLS   Adj. R-squared:                  0.185\n",
      "Method:                 Least Squares   F-statistic:                     3.732\n",
      "Date:                Sat, 22 Apr 2023   Prob (F-statistic):             0.0402\n",
      "Time:                        04:48:54   Log-Likelihood:                -34.129\n",
      "No. Observations:                  25   AIC:                             74.26\n",
      "Df Residuals:                      22   BIC:                             77.91\n",
      "Df Model:                           2                                         \n",
      "Covariance Type:            nonrobust                                         \n",
      "==============================================================================\n",
      "                 coef    std err          t      P>|t|      [0.025      0.975]\n",
      "------------------------------------------------------------------------------\n",
      "const          3.5619      0.598      5.953      0.000       2.321       4.803\n",
      "Income         0.0028      0.005      0.518      0.609      -0.008       0.014\n",
      "Size           0.3071      0.118      2.600      0.016       0.062       0.552\n",
      "==============================================================================\n",
      "Omnibus:                       20.636   Durbin-Watson:                   1.543\n",
      "Prob(Omnibus):                  0.000   Jarque-Bera (JB):               33.251\n",
      "Skew:                           1.607   Prob(JB):                     6.02e-08\n",
      "Kurtosis:                       7.646   Cond. No.                         270.\n",
      "==============================================================================\n",
      "\n",
      "Notes:\n",
      "[1] Standard Errors assume that the covariance matrix of the errors is correctly specified.\n"
     ]
    },
    {
     "ename": "AttributeError",
     "evalue": "'PandasData' object has no attribute 'design_info'",
     "output_type": "error",
     "traceback": [
      "\u001b[1;31m---------------------------------------------------------------------------\u001b[0m",
      "\u001b[1;31mAttributeError\u001b[0m                            Traceback (most recent call last)",
      "\u001b[1;32m~\\AppData\\Local\\Temp\\ipykernel_15208\\1604246561.py\u001b[0m in \u001b[0;36m<module>\u001b[1;34m\u001b[0m\n\u001b[0;32m     30\u001b[0m \u001b[1;33m\u001b[0m\u001b[0m\n\u001b[0;32m     31\u001b[0m \u001b[1;31m# Create the ANOVA table\u001b[0m\u001b[1;33m\u001b[0m\u001b[1;33m\u001b[0m\u001b[0m\n\u001b[1;32m---> 32\u001b[1;33m \u001b[0manova_results\u001b[0m \u001b[1;33m=\u001b[0m \u001b[0manova_lm\u001b[0m\u001b[1;33m(\u001b[0m\u001b[0mmodel\u001b[0m\u001b[1;33m)\u001b[0m\u001b[1;33m\u001b[0m\u001b[1;33m\u001b[0m\u001b[0m\n\u001b[0m\u001b[0;32m     33\u001b[0m \u001b[1;33m\u001b[0m\u001b[0m\n\u001b[0;32m     34\u001b[0m \u001b[1;31m# Print the ANOVA table\u001b[0m\u001b[1;33m\u001b[0m\u001b[1;33m\u001b[0m\u001b[0m\n",
      "\u001b[1;32m~\\anaconda3\\lib\\site-packages\\statsmodels\\stats\\anova.py\u001b[0m in \u001b[0;36manova_lm\u001b[1;34m(*args, **kwargs)\u001b[0m\n\u001b[0;32m    347\u001b[0m     \u001b[1;32mif\u001b[0m \u001b[0mlen\u001b[0m\u001b[1;33m(\u001b[0m\u001b[0margs\u001b[0m\u001b[1;33m)\u001b[0m \u001b[1;33m==\u001b[0m \u001b[1;36m1\u001b[0m\u001b[1;33m:\u001b[0m\u001b[1;33m\u001b[0m\u001b[1;33m\u001b[0m\u001b[0m\n\u001b[0;32m    348\u001b[0m         \u001b[0mmodel\u001b[0m \u001b[1;33m=\u001b[0m \u001b[0margs\u001b[0m\u001b[1;33m[\u001b[0m\u001b[1;36m0\u001b[0m\u001b[1;33m]\u001b[0m\u001b[1;33m\u001b[0m\u001b[1;33m\u001b[0m\u001b[0m\n\u001b[1;32m--> 349\u001b[1;33m         \u001b[1;32mreturn\u001b[0m \u001b[0manova_single\u001b[0m\u001b[1;33m(\u001b[0m\u001b[0mmodel\u001b[0m\u001b[1;33m,\u001b[0m \u001b[1;33m**\u001b[0m\u001b[0mkwargs\u001b[0m\u001b[1;33m)\u001b[0m\u001b[1;33m\u001b[0m\u001b[1;33m\u001b[0m\u001b[0m\n\u001b[0m\u001b[0;32m    350\u001b[0m \u001b[1;33m\u001b[0m\u001b[0m\n\u001b[0;32m    351\u001b[0m     \u001b[1;32mif\u001b[0m \u001b[0mtyp\u001b[0m \u001b[1;32mnot\u001b[0m \u001b[1;32min\u001b[0m \u001b[1;33m[\u001b[0m\u001b[1;36m1\u001b[0m\u001b[1;33m,\u001b[0m \u001b[1;34m\"I\"\u001b[0m\u001b[1;33m]\u001b[0m\u001b[1;33m:\u001b[0m\u001b[1;33m\u001b[0m\u001b[1;33m\u001b[0m\u001b[0m\n",
      "\u001b[1;32m~\\anaconda3\\lib\\site-packages\\statsmodels\\stats\\anova.py\u001b[0m in \u001b[0;36manova_single\u001b[1;34m(model, **kwargs)\u001b[0m\n\u001b[0;32m     64\u001b[0m \u001b[1;33m\u001b[0m\u001b[0m\n\u001b[0;32m     65\u001b[0m     \u001b[0mresponse_name\u001b[0m \u001b[1;33m=\u001b[0m \u001b[0mmodel\u001b[0m\u001b[1;33m.\u001b[0m\u001b[0mmodel\u001b[0m\u001b[1;33m.\u001b[0m\u001b[0mendog_names\u001b[0m\u001b[1;33m\u001b[0m\u001b[1;33m\u001b[0m\u001b[0m\n\u001b[1;32m---> 66\u001b[1;33m     \u001b[0mdesign_info\u001b[0m \u001b[1;33m=\u001b[0m \u001b[0mmodel\u001b[0m\u001b[1;33m.\u001b[0m\u001b[0mmodel\u001b[0m\u001b[1;33m.\u001b[0m\u001b[0mdata\u001b[0m\u001b[1;33m.\u001b[0m\u001b[0mdesign_info\u001b[0m\u001b[1;33m\u001b[0m\u001b[1;33m\u001b[0m\u001b[0m\n\u001b[0m\u001b[0;32m     67\u001b[0m     \u001b[0mexog_names\u001b[0m \u001b[1;33m=\u001b[0m \u001b[0mmodel\u001b[0m\u001b[1;33m.\u001b[0m\u001b[0mmodel\u001b[0m\u001b[1;33m.\u001b[0m\u001b[0mexog_names\u001b[0m\u001b[1;33m\u001b[0m\u001b[1;33m\u001b[0m\u001b[0m\n\u001b[0;32m     68\u001b[0m     \u001b[1;31m# +1 for resids\u001b[0m\u001b[1;33m\u001b[0m\u001b[1;33m\u001b[0m\u001b[0m\n",
      "\u001b[1;31mAttributeError\u001b[0m: 'PandasData' object has no attribute 'design_info'"
     ]
    }
   ],
   "source": [
    "import pandas as pd\n",
    "import numpy as np\n",
    "import scipy.stats as stats\n",
    "import statsmodels.api as sm\n",
    "\n",
    "\n",
    "data = {\n",
    "    \"Food\": [4.07, 4.08, 5.76, 3.48, 4.20, 4.80, 4.32, 5.04, 6.12, 3.24, 4.80, 3.24, 5.48, 3.77, 6.60, 5.40, 6.00, 5.40, 3.36, 4.68, 4.32, 5.52, 4.56, 5.40, 7.80],\n",
    "    \"Income\": [73.98, 54.90, 62.89, 52.02, 65.70, 53.64, 79.74, 68.58, 165.60, 64.80, 138.42, 125.82, 77.58, 134.04, 166.04, 141.30, 36.90, 56.88, 71.82, 69.48, 54.36, 87.66, 38.16, 43.74, 67.57],\n",
    "    \"Size\": [5, 2, 4, 1, 2, 4, 3, 4, 5, 1, 3, 1, 7, 5, 5, 3, 5, 4, 1, 3, 2, 5, 3, 7, 2],\n",
    "}\n",
    "\n",
    "df = pd.DataFrame(data)\n",
    "\n",
    "# Define the dependent variable (Food) and independent variables (Income, Size)\n",
    "X = df[[\"Income\", \"Size\"]]\n",
    "y = df[\"Food\"]\n",
    "\n",
    "# Add a constant term to the independent variables (this represents the intercept)\n",
    "X = sm.add_constant(X)\n",
    "\n",
    "# Fit the multiple linear regression model\n",
    "model = sm.OLS(y, X).fit()\n",
    "\n",
    "# Print the model summary\n",
    "print(model.summary())\n",
    "\n",
    "# Import anova_lm from statsmodels\n",
    "from statsmodels.stats.anova import anova_lm\n",
    "\n",
    "# Create the ANOVA table\n",
    "anova_results = anova_lm(model)\n",
    "\n",
    "# Print the ANOVA table\n",
    "print(anova_results)\n",
    "\n"
   ]
  },
  {
   "cell_type": "code",
   "execution_count": 30,
   "id": "09f3e79c",
   "metadata": {},
   "outputs": [
    {
     "ename": "AttributeError",
     "evalue": "'PandasData' object has no attribute 'design_info'",
     "output_type": "error",
     "traceback": [
      "\u001b[1;31m---------------------------------------------------------------------------\u001b[0m",
      "\u001b[1;31mAttributeError\u001b[0m                            Traceback (most recent call last)",
      "\u001b[1;32m~\\AppData\\Local\\Temp\\ipykernel_15208\\2389845395.py\u001b[0m in \u001b[0;36m<module>\u001b[1;34m\u001b[0m\n\u001b[0;32m     23\u001b[0m \u001b[1;33m\u001b[0m\u001b[0m\n\u001b[0;32m     24\u001b[0m \u001b[1;31m# Generate the ANOVA table\u001b[0m\u001b[1;33m\u001b[0m\u001b[1;33m\u001b[0m\u001b[0m\n\u001b[1;32m---> 25\u001b[1;33m \u001b[0manova_table\u001b[0m \u001b[1;33m=\u001b[0m \u001b[0manova_lm\u001b[0m\u001b[1;33m(\u001b[0m\u001b[0mmodel\u001b[0m\u001b[1;33m)\u001b[0m\u001b[1;33m\u001b[0m\u001b[1;33m\u001b[0m\u001b[0m\n\u001b[0m\u001b[0;32m     26\u001b[0m \u001b[1;33m\u001b[0m\u001b[0m\n\u001b[0;32m     27\u001b[0m \u001b[1;31m# Print the ANOVA table\u001b[0m\u001b[1;33m\u001b[0m\u001b[1;33m\u001b[0m\u001b[0m\n",
      "\u001b[1;32m~\\anaconda3\\lib\\site-packages\\statsmodels\\stats\\anova.py\u001b[0m in \u001b[0;36manova_lm\u001b[1;34m(*args, **kwargs)\u001b[0m\n\u001b[0;32m    347\u001b[0m     \u001b[1;32mif\u001b[0m \u001b[0mlen\u001b[0m\u001b[1;33m(\u001b[0m\u001b[0margs\u001b[0m\u001b[1;33m)\u001b[0m \u001b[1;33m==\u001b[0m \u001b[1;36m1\u001b[0m\u001b[1;33m:\u001b[0m\u001b[1;33m\u001b[0m\u001b[1;33m\u001b[0m\u001b[0m\n\u001b[0;32m    348\u001b[0m         \u001b[0mmodel\u001b[0m \u001b[1;33m=\u001b[0m \u001b[0margs\u001b[0m\u001b[1;33m[\u001b[0m\u001b[1;36m0\u001b[0m\u001b[1;33m]\u001b[0m\u001b[1;33m\u001b[0m\u001b[1;33m\u001b[0m\u001b[0m\n\u001b[1;32m--> 349\u001b[1;33m         \u001b[1;32mreturn\u001b[0m \u001b[0manova_single\u001b[0m\u001b[1;33m(\u001b[0m\u001b[0mmodel\u001b[0m\u001b[1;33m,\u001b[0m \u001b[1;33m**\u001b[0m\u001b[0mkwargs\u001b[0m\u001b[1;33m)\u001b[0m\u001b[1;33m\u001b[0m\u001b[1;33m\u001b[0m\u001b[0m\n\u001b[0m\u001b[0;32m    350\u001b[0m \u001b[1;33m\u001b[0m\u001b[0m\n\u001b[0;32m    351\u001b[0m     \u001b[1;32mif\u001b[0m \u001b[0mtyp\u001b[0m \u001b[1;32mnot\u001b[0m \u001b[1;32min\u001b[0m \u001b[1;33m[\u001b[0m\u001b[1;36m1\u001b[0m\u001b[1;33m,\u001b[0m \u001b[1;34m\"I\"\u001b[0m\u001b[1;33m]\u001b[0m\u001b[1;33m:\u001b[0m\u001b[1;33m\u001b[0m\u001b[1;33m\u001b[0m\u001b[0m\n",
      "\u001b[1;32m~\\anaconda3\\lib\\site-packages\\statsmodels\\stats\\anova.py\u001b[0m in \u001b[0;36manova_single\u001b[1;34m(model, **kwargs)\u001b[0m\n\u001b[0;32m     64\u001b[0m \u001b[1;33m\u001b[0m\u001b[0m\n\u001b[0;32m     65\u001b[0m     \u001b[0mresponse_name\u001b[0m \u001b[1;33m=\u001b[0m \u001b[0mmodel\u001b[0m\u001b[1;33m.\u001b[0m\u001b[0mmodel\u001b[0m\u001b[1;33m.\u001b[0m\u001b[0mendog_names\u001b[0m\u001b[1;33m\u001b[0m\u001b[1;33m\u001b[0m\u001b[0m\n\u001b[1;32m---> 66\u001b[1;33m     \u001b[0mdesign_info\u001b[0m \u001b[1;33m=\u001b[0m \u001b[0mmodel\u001b[0m\u001b[1;33m.\u001b[0m\u001b[0mmodel\u001b[0m\u001b[1;33m.\u001b[0m\u001b[0mdata\u001b[0m\u001b[1;33m.\u001b[0m\u001b[0mdesign_info\u001b[0m\u001b[1;33m\u001b[0m\u001b[1;33m\u001b[0m\u001b[0m\n\u001b[0m\u001b[0;32m     67\u001b[0m     \u001b[0mexog_names\u001b[0m \u001b[1;33m=\u001b[0m \u001b[0mmodel\u001b[0m\u001b[1;33m.\u001b[0m\u001b[0mmodel\u001b[0m\u001b[1;33m.\u001b[0m\u001b[0mexog_names\u001b[0m\u001b[1;33m\u001b[0m\u001b[1;33m\u001b[0m\u001b[0m\n\u001b[0;32m     68\u001b[0m     \u001b[1;31m# +1 for resids\u001b[0m\u001b[1;33m\u001b[0m\u001b[1;33m\u001b[0m\u001b[0m\n",
      "\u001b[1;31mAttributeError\u001b[0m: 'PandasData' object has no attribute 'design_info'"
     ]
    }
   ],
   "source": []
  },
  {
   "cell_type": "code",
   "execution_count": 35,
   "id": "beb2bfcf",
   "metadata": {},
   "outputs": [
    {
     "name": "stdout",
     "output_type": "stream",
     "text": [
      "          Customer   Tip ($)  Bill ($)    Diners\n",
      "Customer  1.000000  0.135078  0.198769  0.029883\n",
      "Tip ($)   0.135078  1.000000  0.884836  0.420271\n",
      "Bill ($)  0.198769  0.884836  1.000000  0.512666\n",
      "Diners    0.029883  0.420271  0.512666  1.000000\n"
     ]
    }
   ],
   "source": [
    "import pandas as pd\n",
    "\n",
    "# Create a dictionary with the data\n",
    "data = {\n",
    "    'Customer': [1, 2, 3, 4, 5, 6, 7, 8, 9, 10, 11, 12, 13, 14, 15, 16, 17, 18, 19, 20, 21, 22, 23, 24, 25, 26, 27, 28, 29, 30],\n",
    "    'Tip ($)': [8.0, 3.1, 1.0, 5.2, 5.0, 4.11, 0.5, 6.0, 5.0, 4.61, 5.11, 6.0, 4.0, 3.21, 1.03, 3.3, 3.5, 3.11, 5.4, 2.11, 5.5, 3.0, 1.11, 3.11, 3.0, 6.67, 5.6, 2.5, 9.11, 8.11],\n",
    "    'Bill ($)': [48.83, 28.37, 10.79, 19.96, 28.76, 24.97, 6.38, 49.2, 43.4, 31.22, 33.01, 34.85, 34.05, 22.92, 4.79, 23.45, 22.3, 32.0, 50.16, 17.6, 44.33, 20.41, 19.39, 27.17, 21.14, 43.52, 27.98, 26.39, 56.67, 50.79],\n",
    "    'Diners': [1, 5, 5, 3, 3, 2, 1, 4, 3, 4, 4, 3, 4, 2, 1, 2, 2, 2, 4, 3, 4, 2, 2, 3, 2, 4, 2, 2, 5, 5]\n",
    "}\n",
    "\n",
    "# Create a DataFrame from the dictionary\n",
    "df = pd.DataFrame(data)\n",
    "\n",
    "# Compute the correlation matrix\n",
    "corr_matrix = df.corr()\n",
    "\n",
    "# Print the correlation matrix\n",
    "print(corr_matrix)"
   ]
  },
  {
   "cell_type": "code",
   "execution_count": 36,
   "id": "bae04e3a",
   "metadata": {},
   "outputs": [
    {
     "name": "stdout",
     "output_type": "stream",
     "text": [
      "                            OLS Regression Results                            \n",
      "==============================================================================\n",
      "Dep. Variable:               Bill ($)   R-squared:                       0.263\n",
      "Model:                            OLS   Adj. R-squared:                  0.236\n",
      "Method:                 Least Squares   F-statistic:                     9.983\n",
      "Date:                Sat, 22 Apr 2023   Prob (F-statistic):            0.00377\n",
      "Time:                        05:32:14   Log-Likelihood:                -115.33\n",
      "No. Observations:                  30   AIC:                             234.7\n",
      "Df Residuals:                      28   BIC:                             237.5\n",
      "Df Model:                           1                                         \n",
      "Covariance Type:            nonrobust                                         \n",
      "==============================================================================\n",
      "                 coef    std err          t      P>|t|      [0.025      0.975]\n",
      "------------------------------------------------------------------------------\n",
      "const         13.8022      5.601      2.464      0.020       2.330      25.275\n",
      "Diners         5.5139      1.745      3.160      0.004       1.939       9.089\n",
      "==============================================================================\n",
      "Omnibus:                        2.379   Durbin-Watson:                   1.587\n",
      "Prob(Omnibus):                  0.304   Jarque-Bera (JB):                1.206\n",
      "Skew:                          -0.012   Prob(JB):                        0.547\n",
      "Kurtosis:                       3.982   Cond. No.                         9.12\n",
      "==============================================================================\n",
      "\n",
      "Notes:\n",
      "[1] Standard Errors assume that the covariance matrix of the errors is correctly specified.\n"
     ]
    }
   ],
   "source": [
    "import statsmodels.api as sm\n",
    "\n",
    "# Define the dependent and independent variables\n",
    "X = df[\"Diners\"]\n",
    "y = df[\"Bill ($)\"]\n",
    "\n",
    "# Add a constant to the independent variable\n",
    "X = sm.add_constant(X)\n",
    "\n",
    "# Fit the linear regression model\n",
    "model = sm.OLS(y, X).fit()\n",
    "\n",
    "# Print the model summary\n",
    "print(model.summary())"
   ]
  },
  {
   "cell_type": "code",
   "execution_count": 37,
   "id": "38008469",
   "metadata": {},
   "outputs": [
    {
     "name": "stdout",
     "output_type": "stream",
     "text": [
      "                            OLS Regression Results                            \n",
      "==============================================================================\n",
      "Dep. Variable:                Tip ($)   R-squared:                       0.784\n",
      "Model:                            OLS   Adj. R-squared:                  0.768\n",
      "Method:                 Least Squares   F-statistic:                     49.13\n",
      "Date:                Sat, 22 Apr 2023   Prob (F-statistic):           1.01e-09\n",
      "Time:                        05:34:16   Log-Likelihood:                -42.037\n",
      "No. Observations:                  30   AIC:                             90.07\n",
      "Df Residuals:                      27   BIC:                             94.28\n",
      "Df Model:                           2                                         \n",
      "Covariance Type:            nonrobust                                         \n",
      "==============================================================================\n",
      "                 coef    std err          t      P>|t|      [0.025      0.975]\n",
      "------------------------------------------------------------------------------\n",
      "const          0.0643      0.547      0.118      0.907      -1.057       1.186\n",
      "Bill ($)       0.1459      0.017      8.725      0.000       0.112       0.180\n",
      "Diners        -0.0782      0.180     -0.435      0.667      -0.447       0.291\n",
      "==============================================================================\n",
      "Omnibus:                        0.428   Durbin-Watson:                   1.603\n",
      "Prob(Omnibus):                  0.807   Jarque-Bera (JB):                0.442\n",
      "Skew:                           0.252   Prob(JB):                        0.802\n",
      "Kurtosis:                       2.683   Cond. No.                         97.0\n",
      "==============================================================================\n",
      "\n",
      "Notes:\n",
      "[1] Standard Errors assume that the covariance matrix of the errors is correctly specified.\n"
     ]
    }
   ],
   "source": []
  },
  {
   "cell_type": "code",
   "execution_count": 38,
   "id": "a44d7737",
   "metadata": {},
   "outputs": [
    {
     "name": "stdout",
     "output_type": "stream",
     "text": [
      "                            OLS Regression Results                            \n",
      "==============================================================================\n",
      "Dep. Variable:                Tip ($)   R-squared:                       0.783\n",
      "Model:                            OLS   Adj. R-squared:                  0.775\n",
      "Method:                 Least Squares   F-statistic:                     101.0\n",
      "Date:                Sat, 22 Apr 2023   Prob (F-statistic):           8.63e-11\n",
      "Time:                        05:36:52   Log-Likelihood:                -42.141\n",
      "No. Observations:                  30   AIC:                             88.28\n",
      "Df Residuals:                      28   BIC:                             91.08\n",
      "Df Model:                           1                                         \n",
      "Covariance Type:            nonrobust                                         \n",
      "==============================================================================\n",
      "                 coef    std err          t      P>|t|      [0.025      0.975]\n",
      "------------------------------------------------------------------------------\n",
      "const         -0.0552      0.466     -0.119      0.906      -1.009       0.899\n",
      "Bill ($)       0.1422      0.014     10.050      0.000       0.113       0.171\n",
      "==============================================================================\n",
      "Omnibus:                        0.531   Durbin-Watson:                   1.662\n",
      "Prob(Omnibus):                  0.767   Jarque-Bera (JB):                0.611\n",
      "Skew:                           0.271   Prob(JB):                        0.737\n",
      "Kurtosis:                       2.559   Cond. No.                         82.3\n",
      "==============================================================================\n",
      "\n",
      "Notes:\n",
      "[1] Standard Errors assume that the covariance matrix of the errors is correctly specified.\n"
     ]
    }
   ],
   "source": [
    "import statsmodels.api as sm\n",
    "\n",
    "# Define the independent variable (X) and dependent variable (y)\n",
    "X = df['Bill ($)']\n",
    "y = df['Tip ($)']\n",
    "\n",
    "# Add a constant to the independent variable\n",
    "X = sm.add_constant(X)\n",
    "\n",
    "# Create the regression model and fit it to the data\n",
    "model = sm.OLS(y, X).fit()\n",
    "\n",
    "# Print the model summary\n",
    "print(model.summary())"
   ]
  },
  {
   "cell_type": "code",
   "execution_count": 46,
   "id": "5097e3a5",
   "metadata": {},
   "outputs": [
    {
     "name": "stdout",
     "output_type": "stream",
     "text": [
      "                            OLS Regression Results                            \n",
      "==============================================================================\n",
      "Dep. Variable:          auction_price   R-squared:                       0.724\n",
      "Model:                            OLS   Adj. R-squared:                  0.650\n",
      "Method:                 Least Squares   F-statistic:                     9.819\n",
      "Date:                Sat, 22 Apr 2023   Prob (F-statistic):           0.000416\n",
      "Time:                        06:03:54   Log-Likelihood:                -209.90\n",
      "No. Observations:                  20   AIC:                             429.8\n",
      "Df Residuals:                      15   BIC:                             434.8\n",
      "Df Model:                           4                                         \n",
      "Covariance Type:            nonrobust                                         \n",
      "=============================================================================================\n",
      "                                coef    std err          t      P>|t|      [0.025      0.975]\n",
      "---------------------------------------------------------------------------------------------\n",
      "const                     -1.428e+05   4.64e+04     -3.080      0.008   -2.42e+05    -4.4e+04\n",
      "loan                          1.5467      0.417      3.712      0.002       0.659       2.435\n",
      "monthly_payments             36.4464     21.153      1.723      0.105      -8.639      81.532\n",
      "payments_made              1353.6108   1447.674      0.935      0.365   -1732.033    4439.254\n",
      "loan_payments_interaction    -0.0129      0.014     -0.932      0.366      -0.042       0.017\n",
      "==============================================================================\n",
      "Omnibus:                        2.891   Durbin-Watson:                   1.615\n",
      "Prob(Omnibus):                  0.236   Jarque-Bera (JB):                1.635\n",
      "Skew:                          -0.695   Prob(JB):                        0.442\n",
      "Kurtosis:                       3.179   Cond. No.                     6.10e+07\n",
      "==============================================================================\n",
      "\n",
      "Notes:\n",
      "[1] Standard Errors assume that the covariance matrix of the errors is correctly specified.\n",
      "[2] The condition number is large, 6.1e+07. This might indicate that there are\n",
      "strong multicollinearity or other numerical problems.\n"
     ]
    }
   ],
   "source": [
    "import pandas as pd\n",
    "import statsmodels.api as sm\n",
    "\n",
    "# create the data frame\n",
    "data = pd.DataFrame({\n",
    "    'loan': [85613, 113255, 110315, 91935, 97600, 104400, 113800, 116400, 100000, 92800, 105200, 105900, 94700, 105600, 104100, 85700, 113600, 119400, 90600, 104500],\n",
    "    'monthly_payments': [1003.10, 929.31, 749.28, 726.17, 831.85, 983.27, 1075.54, 1087.16, 900.01, 683.11, 915.24, 905.67, 810.70, 891.33, 864.38, 1074.73, 871.61, 1021.23, 836.46, 1056.37],\n",
    "    'payments_made': [1, 36, 7, 8, 21, 18, 20, 35, 33, 36, 34, 38, 25, 20, 7, 30, 24, 58, 3, 22],\n",
    "    'auction_price': [28525, 40575, 45250, 16600, 40700, 63100, 72600, 72300, 58100, 37100, 52600, 51900, 43200, 52600, 42700, 22200, 77000, 69000, 35600, 63000]\n",
    "})\n",
    "\n",
    "# add the interaction term\n",
    "data['loan_payments_interaction'] = data['loan'] * data['payments_made']\n",
    "\n",
    "# fit the linear regression model with the interaction term\n",
    "X = sm.add_constant(data[['loan', 'monthly_payments', 'payments_made', 'loan_payments_interaction']])\n",
    "y = data['auction_price']\n",
    "model = sm.OLS(y, X).fit()\n",
    "\n",
    "# print the results\n",
    "print(model.summary())"
   ]
  },
  {
   "cell_type": "code",
   "execution_count": 47,
   "id": "6f23870f",
   "metadata": {},
   "outputs": [
    {
     "ename": "AttributeError",
     "evalue": "module 'statsmodels.stats.api' has no attribute 'distributions'",
     "output_type": "error",
     "traceback": [
      "\u001b[1;31m---------------------------------------------------------------------------\u001b[0m",
      "\u001b[1;31mAttributeError\u001b[0m                            Traceback (most recent call last)",
      "\u001b[1;32m~\\AppData\\Local\\Temp\\ipykernel_15208\\2928360118.py\u001b[0m in \u001b[0;36m<module>\u001b[1;34m\u001b[0m\n\u001b[0;32m     13\u001b[0m \u001b[0mdf_full\u001b[0m \u001b[1;33m=\u001b[0m \u001b[0mnobs\u001b[0m \u001b[1;33m-\u001b[0m \u001b[1;33m(\u001b[0m\u001b[0mX\u001b[0m\u001b[1;33m.\u001b[0m\u001b[0mshape\u001b[0m\u001b[1;33m[\u001b[0m\u001b[1;36m1\u001b[0m\u001b[1;33m]\u001b[0m \u001b[1;33m-\u001b[0m \u001b[1;36m1\u001b[0m\u001b[1;33m)\u001b[0m\u001b[1;33m\u001b[0m\u001b[1;33m\u001b[0m\u001b[0m\n\u001b[0;32m     14\u001b[0m \u001b[0mf_stat\u001b[0m \u001b[1;33m=\u001b[0m \u001b[1;33m(\u001b[0m\u001b[1;33m(\u001b[0m\u001b[0mrss_reduced\u001b[0m \u001b[1;33m-\u001b[0m \u001b[0mrss_full\u001b[0m\u001b[1;33m)\u001b[0m \u001b[1;33m/\u001b[0m \u001b[0mdf_diff\u001b[0m\u001b[1;33m)\u001b[0m \u001b[1;33m/\u001b[0m \u001b[1;33m(\u001b[0m\u001b[0mrss_full\u001b[0m \u001b[1;33m/\u001b[0m \u001b[0mdf_full\u001b[0m\u001b[1;33m)\u001b[0m\u001b[1;33m\u001b[0m\u001b[1;33m\u001b[0m\u001b[0m\n\u001b[1;32m---> 15\u001b[1;33m \u001b[0mp_value\u001b[0m \u001b[1;33m=\u001b[0m \u001b[1;36m1\u001b[0m \u001b[1;33m-\u001b[0m \u001b[0msm\u001b[0m\u001b[1;33m.\u001b[0m\u001b[0mstats\u001b[0m\u001b[1;33m.\u001b[0m\u001b[0mdistributions\u001b[0m\u001b[1;33m.\u001b[0m\u001b[0mf\u001b[0m\u001b[1;33m.\u001b[0m\u001b[0mcdf\u001b[0m\u001b[1;33m(\u001b[0m\u001b[0mf_stat\u001b[0m\u001b[1;33m,\u001b[0m \u001b[0mdf_diff\u001b[0m\u001b[1;33m,\u001b[0m \u001b[0mdf_full\u001b[0m\u001b[1;33m)\u001b[0m\u001b[1;33m\u001b[0m\u001b[1;33m\u001b[0m\u001b[0m\n\u001b[0m\u001b[0;32m     16\u001b[0m \u001b[1;33m\u001b[0m\u001b[0m\n\u001b[0;32m     17\u001b[0m \u001b[1;31m# print the results\u001b[0m\u001b[1;33m\u001b[0m\u001b[1;33m\u001b[0m\u001b[0m\n",
      "\u001b[1;31mAttributeError\u001b[0m: module 'statsmodels.stats.api' has no attribute 'distributions'"
     ]
    }
   ],
   "source": [
    "rss_full = ((y - model.predict(X)) ** 2).sum()\n",
    "\n",
    "# fit the reduced model without the interaction term\n",
    "X_reduced = sm.add_constant(data[['loan', 'monthly_payments', 'payments_made']])\n",
    "model_reduced = sm.OLS(y, X_reduced).fit()\n",
    "\n",
    "# extract the residual sum of squares for the reduced model\n",
    "rss_reduced = ((y - model_reduced.predict(X_reduced)) ** 2).sum()\n",
    "\n",
    "# compute the F-statistic and p-value for the interaction term\n",
    "nobs = len(data)\n",
    "df_diff = 1\n",
    "df_full = nobs - (X.shape[1] - 1)\n",
    "f_stat = ((rss_reduced - rss_full) / df_diff) / (rss_full / df_full)\n",
    "p_value = 1 - sm.stats.distributions.f.cdf(f_stat, df_diff, df_full)\n",
    "\n",
    "# print the results\n",
    "print('F-statistic: {:.3f}'.format(f_stat))\n",
    "print('p-value: {:.3f}'.format(p_value))"
   ]
  },
  {
   "cell_type": "code",
   "execution_count": null,
   "id": "30371ab0",
   "metadata": {},
   "outputs": [],
   "source": []
  }
 ],
 "metadata": {
  "kernelspec": {
   "display_name": "Python 3 (ipykernel)",
   "language": "python",
   "name": "python3"
  },
  "language_info": {
   "codemirror_mode": {
    "name": "ipython",
    "version": 3
   },
   "file_extension": ".py",
   "mimetype": "text/x-python",
   "name": "python",
   "nbconvert_exporter": "python",
   "pygments_lexer": "ipython3",
   "version": "3.9.13"
  }
 },
 "nbformat": 4,
 "nbformat_minor": 5
}
