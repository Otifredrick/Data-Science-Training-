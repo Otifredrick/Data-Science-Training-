{
 "cells": [
  {
   "cell_type": "code",
   "execution_count": 1,
   "id": "07c45058",
   "metadata": {},
   "outputs": [],
   "source": [
    "import numpy as np\n",
    "import time\n"
   ]
  },
  {
   "cell_type": "code",
   "execution_count": 2,
   "id": "32d4a775",
   "metadata": {},
   "outputs": [],
   "source": [
    "my_arr=np.arange(100000)"
   ]
  },
  {
   "cell_type": "code",
   "execution_count": 3,
   "id": "9f8c70b8",
   "metadata": {},
   "outputs": [],
   "source": [
    "my_list=list(range(100000))"
   ]
  },
  {
   "cell_type": "code",
   "execution_count": 4,
   "id": "dbe322fe",
   "metadata": {},
   "outputs": [
    {
     "name": "stdout",
     "output_type": "stream",
     "text": [
      "0.0712575912475586\n"
     ]
    }
   ],
   "source": [
    "t1=time.time()\n",
    "for num in my_arr:\n",
    "    num *2\n",
    "t2=time.time()\n",
    "t_diff=t2-t1\n",
    "\n",
    "print(t_diff)\n",
    "    "
   ]
  },
  {
   "cell_type": "code",
   "execution_count": 5,
   "id": "ac776294",
   "metadata": {},
   "outputs": [
    {
     "name": "stdout",
     "output_type": "stream",
     "text": [
      "0.03197073936462402\n"
     ]
    }
   ],
   "source": [
    "t1=time.time()\n",
    "for num in my_list:\n",
    "    num*2\n",
    "t2=time.time()\n",
    "t_diff=t2-t1\n",
    "print(t_diff)\n"
   ]
  },
  {
   "cell_type": "markdown",
   "id": "c8876c52",
   "metadata": {},
   "source": [
    "# The NumPy ndarray: A Multidimensional Array Object"
   ]
  },
  {
   "cell_type": "code",
   "execution_count": 6,
   "id": "959dd185",
   "metadata": {},
   "outputs": [
    {
     "data": {
      "text/plain": [
       "array([[ 5.6084768 , -0.07296803,  8.5080704 ,  5.62935183],\n",
       "       [ 4.86146226, -1.27152693,  6.32160989,  5.58770557]])"
      ]
     },
     "execution_count": 6,
     "metadata": {},
     "output_type": "execute_result"
    }
   ],
   "source": [
    "#random numbers sampled from a normal(gaussian) distribution with mean 3 and standard deviation 2.5.\n",
    "data=3 + 2.5 * np.random.randn(2, 4)\n",
    "data"
   ]
  },
  {
   "cell_type": "code",
   "execution_count": 7,
   "id": "5b8b00c9",
   "metadata": {},
   "outputs": [
    {
     "data": {
      "text/plain": [
       "array([[11.21695359, -0.14593606, 17.0161408 , 11.25870365],\n",
       "       [ 9.72292452, -2.54305385, 12.64321979, 11.17541114]])"
      ]
     },
     "execution_count": 7,
     "metadata": {},
     "output_type": "execute_result"
    }
   ],
   "source": [
    "#summing the data array with itself;\n",
    "#it performs the normal matrix operations\n",
    "su_m=data+data \n",
    "su_m"
   ]
  },
  {
   "cell_type": "code",
   "execution_count": 8,
   "id": "f23883de",
   "metadata": {},
   "outputs": [
    {
     "data": {
      "text/plain": [
       "array([[3.14550120e+01, 5.32433312e-03, 7.23872620e+01, 3.16896020e+01],\n",
       "       [2.36338153e+01, 1.61678072e+00, 3.99627516e+01, 3.12224535e+01]])"
      ]
     },
     "execution_count": 8,
     "metadata": {},
     "output_type": "execute_result"
    }
   ],
   "source": [
    "#multiplying the data array with itself;\n",
    "#it performs the normal matrix operations\n",
    "mult=data*data\n",
    "mult"
   ]
  },
  {
   "cell_type": "markdown",
   "id": "cd549551",
   "metadata": {},
   "source": [
    "# Creating ndarrays"
   ]
  },
  {
   "cell_type": "code",
   "execution_count": 9,
   "id": "fab289a3",
   "metadata": {},
   "outputs": [
    {
     "data": {
      "text/plain": [
       "array([2, 3, 4, 5, 6, 7, 8, 9, 0])"
      ]
     },
     "execution_count": 9,
     "metadata": {},
     "output_type": "execute_result"
    }
   ],
   "source": [
    "#using the array function, array();\n",
    "\n",
    "data=[2,3,4,5,6,7,8,9,0]\n",
    "arr=np.array(data)\n",
    "arr"
   ]
  },
  {
   "cell_type": "code",
   "execution_count": 10,
   "id": "b39f932e",
   "metadata": {},
   "outputs": [
    {
     "data": {
      "text/plain": [
       "array([[1, 2, 3, 4],\n",
       "       [5, 6, 7, 8]])"
      ]
     },
     "execution_count": 10,
     "metadata": {},
     "output_type": "execute_result"
    }
   ],
   "source": [
    "#Nested sequences, like a list of equal-length lists, will be converted into a multidimensional array:\n",
    "data2 = [[1, 2, 3, 4], [5, 6, 7, 8]]\n",
    "arr1=np.array(data2)\n",
    "arr1"
   ]
  },
  {
   "cell_type": "code",
   "execution_count": 11,
   "id": "2172a427",
   "metadata": {},
   "outputs": [
    {
     "name": "stdout",
     "output_type": "stream",
     "text": [
      "2\n"
     ]
    },
    {
     "data": {
      "text/plain": [
       "(2, 4)"
      ]
     },
     "execution_count": 11,
     "metadata": {},
     "output_type": "execute_result"
    }
   ],
   "source": [
    "#outputting the dimesions of the arr1\n",
    "print(arr1.ndim)\n",
    "arr1.shape"
   ]
  },
  {
   "cell_type": "code",
   "execution_count": 12,
   "id": "6b744904",
   "metadata": {},
   "outputs": [
    {
     "data": {
      "text/plain": [
       "dtype('int32')"
      ]
     },
     "execution_count": 12,
     "metadata": {},
     "output_type": "execute_result"
    }
   ],
   "source": [
    "#checking for the data type of the arrays:The data type is stored \n",
    "#in a special dtype metadata object\n",
    "arr1.dtype"
   ]
  },
  {
   "cell_type": "code",
   "execution_count": 13,
   "id": "ebd23d88",
   "metadata": {},
   "outputs": [
    {
     "data": {
      "text/plain": [
       "array([[0., 0., 0., 0., 0., 0.],\n",
       "       [0., 0., 0., 0., 0., 0.],\n",
       "       [0., 0., 0., 0., 0., 0.]])"
      ]
     },
     "execution_count": 13,
     "metadata": {},
     "output_type": "execute_result"
    }
   ],
   "source": [
    "#other functions for creating new arrays are np.empty,np.zeros or np.ones for exampe;\n",
    "\n",
    "np.zeros((3,6))\n"
   ]
  },
  {
   "cell_type": "code",
   "execution_count": 14,
   "id": "54342d58",
   "metadata": {},
   "outputs": [
    {
     "data": {
      "text/plain": [
       "array([[[1.10084567e-311, 3.16202013e-322],\n",
       "        [0.00000000e+000, 0.00000000e+000],\n",
       "        [1.12465777e-312, 5.28785499e+174]],\n",
       "\n",
       "       [[4.91132050e-062, 1.18942053e-075],\n",
       "        [9.50599739e+169, 5.49557384e+174],\n",
       "        [1.91857487e-076, 2.70139032e-056]]])"
      ]
     },
     "execution_count": 14,
     "metadata": {},
     "output_type": "execute_result"
    }
   ],
   "source": [
    "np.empty((2, 3, 2))"
   ]
  },
  {
   "cell_type": "code",
   "execution_count": 15,
   "id": "171d6df6",
   "metadata": {},
   "outputs": [
    {
     "data": {
      "text/plain": [
       "array([ 0,  1,  2,  3,  4,  5,  6,  7,  8,  9, 10, 11, 12, 13, 14])"
      ]
     },
     "execution_count": 15,
     "metadata": {},
     "output_type": "execute_result"
    }
   ],
   "source": [
    "#arange is an array-valued version of the built-in Python range function:\n",
    "np.arange(15)"
   ]
  },
  {
   "cell_type": "code",
   "execution_count": 16,
   "id": "3e27e2cb",
   "metadata": {},
   "outputs": [
    {
     "data": {
      "text/plain": [
       "array([[1., 0., 0.],\n",
       "       [0., 1., 0.],\n",
       "       [0., 0., 1.]])"
      ]
     },
     "execution_count": 16,
     "metadata": {},
     "output_type": "execute_result"
    }
   ],
   "source": [
    "#identity matrix of 3X3\n",
    "\n",
    "np.identity(3)"
   ]
  },
  {
   "cell_type": "markdown",
   "id": "18b360f1",
   "metadata": {},
   "source": [
    "# Data Types for ndarrays"
   ]
  },
  {
   "cell_type": "code",
   "execution_count": 17,
   "id": "651df03f",
   "metadata": {},
   "outputs": [
    {
     "data": {
      "text/plain": [
       "array([1., 2., 3.])"
      ]
     },
     "execution_count": 17,
     "metadata": {},
     "output_type": "execute_result"
    }
   ],
   "source": [
    "#The data type or dtype is a special object containing the information (or metadata,data about data) \n",
    "#the ndarray needs to interpret a chunk of memory as a particular type of data\n",
    "\n",
    "#assigning the float dtype to the array\n",
    "arr1 = np.array([1, 2, 3], dtype=np.float64)\n",
    "arr1"
   ]
  },
  {
   "cell_type": "code",
   "execution_count": 18,
   "id": "b316c52b",
   "metadata": {},
   "outputs": [
    {
     "data": {
      "text/plain": [
       "array([1, 2, 3])"
      ]
     },
     "execution_count": 18,
     "metadata": {},
     "output_type": "execute_result"
    }
   ],
   "source": [
    "#assigning the int dtype to the array\n",
    "arr2 = np.array([1, 2, 3], dtype=np.int32)\n",
    "arr2"
   ]
  },
  {
   "cell_type": "code",
   "execution_count": 19,
   "id": "a2889225",
   "metadata": {},
   "outputs": [
    {
     "data": {
      "text/plain": [
       "array([1., 2., 4., 5., 6., 7.])"
      ]
     },
     "execution_count": 19,
     "metadata": {},
     "output_type": "execute_result"
    }
   ],
   "source": [
    "#You can explicitly convert or cast an array from one dtype to another using ndarray’s astype method\n",
    "arr=np.array([1,2,4,5,6,7], dtype=np.int64).astype(np.float64)\n",
    "arr\n"
   ]
  },
  {
   "cell_type": "code",
   "execution_count": 20,
   "id": "842c1c7b",
   "metadata": {},
   "outputs": [
    {
     "data": {
      "text/plain": [
       "array([b'1.25', b'-9.6', b'42'], dtype='|S4')"
      ]
     },
     "execution_count": 20,
     "metadata": {},
     "output_type": "execute_result"
    }
   ],
   "source": [
    "numeric_strings = np.array(['1.25', '-9.6', '42'], dtype=np.string_)\n",
    "numeric_strings.astype(np.float64)\n",
    "numeric_strings"
   ]
  },
  {
   "cell_type": "code",
   "execution_count": 21,
   "id": "0f65d519",
   "metadata": {},
   "outputs": [
    {
     "data": {
      "text/plain": [
       "array([       1,        1,        0,      518,     1148,        0,\n",
       "       16777984,      518], dtype=uint32)"
      ]
     },
     "execution_count": 21,
     "metadata": {},
     "output_type": "execute_result"
    }
   ],
   "source": [
    "#There are shorthand type code strings you can also use to refer to a dtype:\n",
    "empty_uint32 = np.empty(8, dtype='u4')\n",
    "empty_uint32\n"
   ]
  },
  {
   "cell_type": "code",
   "execution_count": 22,
   "id": "983ed803",
   "metadata": {},
   "outputs": [
    {
     "data": {
      "text/plain": [
       "array([[[1.10084567e-311, 3.16202013e-322],\n",
       "        [0.00000000e+000, 0.00000000e+000],\n",
       "        [1.12465777e-312, 5.28785499e+174]],\n",
       "\n",
       "       [[4.91132050e-062, 1.18942053e-075],\n",
       "        [9.50599739e+169, 5.49557384e+174],\n",
       "        [1.91857487e-076, 2.70139032e-056]]])"
      ]
     },
     "execution_count": 22,
     "metadata": {},
     "output_type": "execute_result"
    }
   ],
   "source": [
    "np.empty((2, 3, 2))"
   ]
  },
  {
   "cell_type": "markdown",
   "id": "c16c0ffe",
   "metadata": {},
   "source": [
    "# Data types for ndarrays"
   ]
  },
  {
   "cell_type": "code",
   "execution_count": 23,
   "id": "00b813a6",
   "metadata": {},
   "outputs": [
    {
     "data": {
      "text/plain": [
       "array([0., 1., 2., 3., 4., 5., 6., 7., 8., 9.])"
      ]
     },
     "execution_count": 23,
     "metadata": {},
     "output_type": "execute_result"
    }
   ],
   "source": [
    "#; NumPy aliases the Python types to its own equivalent data dtypes\n",
    "int_array = np.arange(10)\n",
    "calibers = np.array([.22, .270, .357, .380, .44, .50], dtype=np.float64)\n",
    "int_array.astype(calibers.dtype)"
   ]
  },
  {
   "cell_type": "code",
   "execution_count": 24,
   "id": "7709103b",
   "metadata": {},
   "outputs": [
    {
     "data": {
      "text/plain": [
       "array([    0,     1,     0,   518,  1052,     0,   768, 32764],\n",
       "      dtype=uint32)"
      ]
     },
     "execution_count": 24,
     "metadata": {},
     "output_type": "execute_result"
    }
   ],
   "source": [
    "empty_uint32 = np.empty(8, dtype='u4')\n",
    "empty_uint32"
   ]
  },
  {
   "cell_type": "code",
   "execution_count": 25,
   "id": "359aa5ca",
   "metadata": {},
   "outputs": [
    {
     "data": {
      "text/plain": [
       "array([0., 0.])"
      ]
     },
     "execution_count": 25,
     "metadata": {},
     "output_type": "execute_result"
    }
   ],
   "source": [
    "np.zeros(2)"
   ]
  },
  {
   "cell_type": "markdown",
   "id": "3e8f70d9",
   "metadata": {},
   "source": [
    "# Basic Indexing and Slicing"
   ]
  },
  {
   "cell_type": "code",
   "execution_count": 26,
   "id": "2646f79c",
   "metadata": {},
   "outputs": [
    {
     "data": {
      "text/plain": [
       "array([[0, 1, 2, 3, 4],\n",
       "       [5, 6, 7, 8, 9]])"
      ]
     },
     "execution_count": 26,
     "metadata": {},
     "output_type": "execute_result"
    }
   ],
   "source": [
    "#one and two dimensional Array\n",
    "data=np.array([0,1,2,3,4,5,6,7,8,9]).reshape(2,5)\n",
    "data"
   ]
  },
  {
   "cell_type": "code",
   "execution_count": 27,
   "id": "e054c664",
   "metadata": {},
   "outputs": [
    {
     "name": "stdout",
     "output_type": "stream",
     "text": [
      "12\n",
      "[ 0  1  2  3  4 12 12 12  8  9]\n"
     ]
    }
   ],
   "source": [
    "#slicing \n",
    "data=np.array([0,1,2,3,4,5,6,7,8,9])\n",
    "array=data[5:8]=12 #replacing the values. The replace values appear in the original Array. \n",
    "print(array)\n",
    "print(data)"
   ]
  },
  {
   "cell_type": "code",
   "execution_count": 28,
   "id": "49220c3e",
   "metadata": {},
   "outputs": [
    {
     "data": {
      "text/plain": [
       "array([[[ 1.,  2.,  3.],\n",
       "        [ 4.,  5.,  6.]],\n",
       "\n",
       "       [[ 8.,  9., 10.],\n",
       "        [11., 12., 13.]]])"
      ]
     },
     "execution_count": 28,
     "metadata": {},
     "output_type": "execute_result"
    }
   ],
   "source": [
    "array1=np.array([[[1,2,3],[4,5,6]],[[8,9,10],[11,12,13]]], dtype=np.float64)\n",
    "array1"
   ]
  },
  {
   "cell_type": "code",
   "execution_count": 29,
   "id": "44079782",
   "metadata": {},
   "outputs": [],
   "source": [
    "old_values=array1[0].copy()"
   ]
  },
  {
   "cell_type": "code",
   "execution_count": 30,
   "id": "60f8c9bd",
   "metadata": {},
   "outputs": [
    {
     "data": {
      "text/plain": [
       "array([[[42., 42., 42.],\n",
       "        [42., 42., 42.]],\n",
       "\n",
       "       [[ 8.,  9., 10.],\n",
       "        [11., 12., 13.]]])"
      ]
     },
     "execution_count": 30,
     "metadata": {},
     "output_type": "execute_result"
    }
   ],
   "source": [
    "#elements in higher dimensional arrays can take both arrays and scalar values\n",
    "#example with a scalar\n",
    "array1[0]=42\n",
    "array1"
   ]
  },
  {
   "cell_type": "code",
   "execution_count": 31,
   "id": "0cfd08e3",
   "metadata": {},
   "outputs": [
    {
     "data": {
      "text/plain": [
       "array([[[ 1.,  2.,  3.],\n",
       "        [ 4.,  5.,  6.]],\n",
       "\n",
       "       [[ 8.,  9., 10.],\n",
       "        [11., 12., 13.]]])"
      ]
     },
     "execution_count": 31,
     "metadata": {},
     "output_type": "execute_result"
    }
   ],
   "source": [
    "# example with an array\n",
    "array1[0]=old_values\n",
    "array1"
   ]
  },
  {
   "cell_type": "code",
   "execution_count": 32,
   "id": "daf43d19",
   "metadata": {},
   "outputs": [
    {
     "data": {
      "text/plain": [
       "array([[1, 2, 3],\n",
       "       [4, 5, 6],\n",
       "       [7, 8, 9]])"
      ]
     },
     "execution_count": 32,
     "metadata": {},
     "output_type": "execute_result"
    }
   ],
   "source": [
    "# let consider slicing a 2-dimensional array, \n",
    "ar1=np.array([[1,2,3],[4,5,6],[7,8,9]] )\n",
    "ar1"
   ]
  },
  {
   "cell_type": "code",
   "execution_count": 33,
   "id": "a150ba91",
   "metadata": {},
   "outputs": [
    {
     "data": {
      "text/plain": [
       "array([[1, 2, 3]])"
      ]
     },
     "execution_count": 33,
     "metadata": {},
     "output_type": "execute_result"
    }
   ],
   "source": [
    "ar1[:1]"
   ]
  },
  {
   "cell_type": "markdown",
   "id": "81b3d084",
   "metadata": {},
   "source": [
    "## Universal Functions: fast Element-Wise Array Functions"
   ]
  },
  {
   "cell_type": "code",
   "execution_count": 34,
   "id": "ed8a49ab",
   "metadata": {},
   "outputs": [],
   "source": [
    "#a universal function, ufunc, is a function tht performs element wise operations on data in ndarrays\n",
    "#you can of them as a fast vectorized wrappers for simple functions that take one or more scalar values and produce one or more scarlar results\n",
    "# They include sqrt(), exp()and many more (simple element wise transformations)"
   ]
  },
  {
   "cell_type": "code",
   "execution_count": 36,
   "id": "ba0bae6a",
   "metadata": {},
   "outputs": [
    {
     "data": {
      "text/plain": [
       "array([0, 1, 2, 3, 4, 5, 6, 7, 8, 9])"
      ]
     },
     "execution_count": 36,
     "metadata": {},
     "output_type": "execute_result"
    }
   ],
   "source": [
    "#example 1\n",
    "arr=np.arange(10)\n",
    "arr"
   ]
  },
  {
   "cell_type": "code",
   "execution_count": 37,
   "id": "16c08385",
   "metadata": {},
   "outputs": [
    {
     "data": {
      "text/plain": [
       "array([0.        , 1.        , 1.41421356, 1.73205081, 2.        ,\n",
       "       2.23606798, 2.44948974, 2.64575131, 2.82842712, 3.        ])"
      ]
     },
     "execution_count": 37,
     "metadata": {},
     "output_type": "execute_result"
    }
   ],
   "source": [
    "#example 2\n",
    "np.sqrt(arr)"
   ]
  },
  {
   "cell_type": "code",
   "execution_count": 38,
   "id": "a09641fe",
   "metadata": {},
   "outputs": [
    {
     "data": {
      "text/plain": [
       "array([1.00000000e+00, 2.71828183e+00, 7.38905610e+00, 2.00855369e+01,\n",
       "       5.45981500e+01, 1.48413159e+02, 4.03428793e+02, 1.09663316e+03,\n",
       "       2.98095799e+03, 8.10308393e+03])"
      ]
     },
     "execution_count": 38,
     "metadata": {},
     "output_type": "execute_result"
    }
   ],
   "source": [
    "#example 2\n",
    "np.exp(arr)"
   ]
  },
  {
   "cell_type": "markdown",
   "id": "94fb148b",
   "metadata": {},
   "source": [
    "The above ufuncs that take one scalar and produce more are call Unary ufuncs. Others which that take 2 arrays and return a single array as the result are called binary unfuncs"
   ]
  },
  {
   "cell_type": "code",
   "execution_count": 41,
   "id": "d3de8bf1",
   "metadata": {},
   "outputs": [],
   "source": [
    "#example of binary ufuncs\n",
    "x=np.random.randn(8)\n",
    "y=np.random.randn(8)"
   ]
  },
  {
   "cell_type": "code",
   "execution_count": 42,
   "id": "bfdf2aa2",
   "metadata": {},
   "outputs": [
    {
     "data": {
      "text/plain": [
       "array([ 0.0513242 , -0.04870899, -0.02255191,  0.60245053,  1.05074555,\n",
       "        0.76082068,  0.30335857, -1.19677288])"
      ]
     },
     "execution_count": 42,
     "metadata": {},
     "output_type": "execute_result"
    }
   ],
   "source": [
    "x"
   ]
  },
  {
   "cell_type": "code",
   "execution_count": 44,
   "id": "9cbe7a40",
   "metadata": {},
   "outputs": [
    {
     "data": {
      "text/plain": [
       "array([ 0.12457179,  1.10545676,  0.88167727, -0.38162843,  0.82733509,\n",
       "       -0.99731132, -1.42637021, -0.59141684])"
      ]
     },
     "execution_count": 44,
     "metadata": {},
     "output_type": "execute_result"
    }
   ],
   "source": [
    "y"
   ]
  },
  {
   "cell_type": "code",
   "execution_count": 45,
   "id": "215c6c15",
   "metadata": {},
   "outputs": [
    {
     "data": {
      "text/plain": [
       "array([ 0.12457179,  1.10545676,  0.88167727,  0.60245053,  1.05074555,\n",
       "        0.76082068,  0.30335857, -0.59141684])"
      ]
     },
     "execution_count": 45,
     "metadata": {},
     "output_type": "execute_result"
    }
   ],
   "source": [
    "#Example 1 -Here, numpy.maximum computed the element-wise maximum of the elements in x and y.\n",
    "\n",
    "np.maximum(x,y)"
   ]
  },
  {
   "cell_type": "markdown",
   "id": "d56d7607",
   "metadata": {},
   "source": [
    "while not common, a ufunc can return multiple arrays.modf is one example, a vectorized version of the built-in python divmod; it returns the fractional and integral parts of a floating-point array:"
   ]
  },
  {
   "cell_type": "code",
   "execution_count": 47,
   "id": "db16ed50",
   "metadata": {},
   "outputs": [],
   "source": [
    "#example\n",
    "arr=np.random.rand(7)*5"
   ]
  },
  {
   "cell_type": "code",
   "execution_count": 48,
   "id": "4e489969",
   "metadata": {},
   "outputs": [
    {
     "data": {
      "text/plain": [
       "array([2.93180233, 1.17668559, 0.11307988, 4.06939846, 2.53727163,\n",
       "       2.72143802, 4.06254848])"
      ]
     },
     "execution_count": 48,
     "metadata": {},
     "output_type": "execute_result"
    }
   ],
   "source": [
    "arr"
   ]
  },
  {
   "cell_type": "code",
   "execution_count": 51,
   "id": "a3285df4",
   "metadata": {},
   "outputs": [
    {
     "name": "stdout",
     "output_type": "stream",
     "text": [
      "[0.93180233 0.17668559 0.11307988 0.06939846 0.53727163 0.72143802\n",
      " 0.06254848]\n",
      "[2. 1. 0. 4. 2. 2. 4.]\n"
     ]
    }
   ],
   "source": [
    "remainder,whole_part=np.modf(arr)\n",
    "print(remainder)\n",
    "print(whole_part)"
   ]
  },
  {
   "cell_type": "markdown",
   "id": "028cea4d",
   "metadata": {},
   "source": [
    "Additionally, ufuncs accept an optional out argument that allows them to operate in-place on arrays\n"
   ]
  },
  {
   "cell_type": "code",
   "execution_count": 54,
   "id": "c766eac1",
   "metadata": {},
   "outputs": [
    {
     "data": {
      "text/plain": [
       "array([ 2.93180233, -2.93180233,  0.11307988,  4.06939846,  2.53727163,\n",
       "        2.72143802,  4.06254848])"
      ]
     },
     "execution_count": 54,
     "metadata": {},
     "output_type": "execute_result"
    }
   ],
   "source": [
    "arr[1]=-2.93180233\n",
    "arr"
   ]
  },
  {
   "cell_type": "code",
   "execution_count": 55,
   "id": "d6aab89c",
   "metadata": {},
   "outputs": [
    {
     "name": "stderr",
     "output_type": "stream",
     "text": [
      "C:\\Users\\PC\\AppData\\Local\\Temp\\ipykernel_6948\\2296558006.py:1: RuntimeWarning: invalid value encountered in sqrt\n",
      "  np.sqrt(arr)\n"
     ]
    },
    {
     "data": {
      "text/plain": [
       "array([1.71225066,        nan, 0.33627353, 2.01727501, 1.59288155,\n",
       "       1.64967816, 2.01557646])"
      ]
     },
     "execution_count": 55,
     "metadata": {},
     "output_type": "execute_result"
    }
   ],
   "source": [
    "np.sqrt(arr)"
   ]
  },
  {
   "cell_type": "code",
   "execution_count": null,
   "id": "99dc8d6c",
   "metadata": {},
   "outputs": [],
   "source": []
  }
 ],
 "metadata": {
  "kernelspec": {
   "display_name": "Python 3 (ipykernel)",
   "language": "python",
   "name": "python3"
  },
  "language_info": {
   "codemirror_mode": {
    "name": "ipython",
    "version": 3
   },
   "file_extension": ".py",
   "mimetype": "text/x-python",
   "name": "python",
   "nbconvert_exporter": "python",
   "pygments_lexer": "ipython3",
   "version": "undefined.undefined.undefined"
  },
  "vscode": {
   "interpreter": {
    "hash": "de47f5c92c0ee6f12a59a5613ac5feff6aab19ddff207ba0b3964cced08c4ccc"
   }
  }
 },
 "nbformat": 4,
 "nbformat_minor": 5
}
