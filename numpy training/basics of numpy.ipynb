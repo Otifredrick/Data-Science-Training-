{
 "cells": [
  {
   "cell_type": "code",
   "execution_count": 1,
   "id": "07c45058",
   "metadata": {},
   "outputs": [],
   "source": [
    "import numpy as np\n",
    "import time\n"
   ]
  },
  {
   "cell_type": "code",
   "execution_count": 2,
   "id": "32d4a775",
   "metadata": {},
   "outputs": [],
   "source": [
    "my_arr=np.arange(100000)"
   ]
  },
  {
   "cell_type": "code",
   "execution_count": 3,
   "id": "9f8c70b8",
   "metadata": {},
   "outputs": [],
   "source": [
    "my_list=list(range(100000))"
   ]
  },
  {
   "cell_type": "code",
   "execution_count": 4,
   "id": "dbe322fe",
   "metadata": {},
   "outputs": [
    {
     "name": "stdout",
     "output_type": "stream",
     "text": [
      "0.09474563598632812\n"
     ]
    }
   ],
   "source": [
    "t1=time.time()\n",
    "for num in my_arr:\n",
    "    num *2\n",
    "t2=time.time()\n",
    "t_diff=t2-t1\n",
    "\n",
    "print(t_diff)\n",
    "    "
   ]
  },
  {
   "cell_type": "code",
   "execution_count": 5,
   "id": "ac776294",
   "metadata": {},
   "outputs": [
    {
     "name": "stdout",
     "output_type": "stream",
     "text": [
      "0.03490567207336426\n"
     ]
    }
   ],
   "source": [
    "t1=time.time()\n",
    "for num in my_list:\n",
    "    num*2\n",
    "t2=time.time()\n",
    "t_diff=t2-t1\n",
    "print(t_diff)\n"
   ]
  },
  {
   "cell_type": "markdown",
   "id": "c8876c52",
   "metadata": {},
   "source": [
    "# The NumPy ndarray: A Multidimensional Array Object"
   ]
  },
  {
   "cell_type": "code",
   "execution_count": 6,
   "id": "959dd185",
   "metadata": {},
   "outputs": [
    {
     "data": {
      "text/plain": [
       "array([[ 5.75286058,  2.35435335,  2.77739654, -2.88450538],\n",
       "       [ 0.29027245,  1.05739999,  2.3372738 ,  1.23033539]])"
      ]
     },
     "execution_count": 6,
     "metadata": {},
     "output_type": "execute_result"
    }
   ],
   "source": [
    "#random numbers sampled from a normal(gaussian) distribution with mean 3 and standard deviation 2.5.\n",
    "data=3 + 2.5 * np.random.randn(2, 4)\n",
    "data"
   ]
  },
  {
   "cell_type": "code",
   "execution_count": 7,
   "id": "5b8b00c9",
   "metadata": {},
   "outputs": [
    {
     "data": {
      "text/plain": [
       "array([[11.50572117,  4.70870669,  5.55479307, -5.76901075],\n",
       "       [ 0.5805449 ,  2.11479998,  4.67454759,  2.46067078]])"
      ]
     },
     "execution_count": 7,
     "metadata": {},
     "output_type": "execute_result"
    }
   ],
   "source": [
    "#summing the data array with itself;\n",
    "#it performs the normal matrix operations\n",
    "su_m=data+data \n",
    "su_m"
   ]
  },
  {
   "cell_type": "code",
   "execution_count": 8,
   "id": "f23883de",
   "metadata": {},
   "outputs": [
    {
     "data": {
      "text/plain": [
       "array([[33.09540489,  5.54297967,  7.71393152,  8.32037127],\n",
       "       [ 0.0842581 ,  1.11809474,  5.4628488 ,  1.51372517]])"
      ]
     },
     "execution_count": 8,
     "metadata": {},
     "output_type": "execute_result"
    }
   ],
   "source": [
    "#multiplying the data array with itself;\n",
    "#it performs the normal matrix operations\n",
    "mult=data*data\n",
    "mult"
   ]
  },
  {
   "cell_type": "markdown",
   "id": "cd549551",
   "metadata": {},
   "source": [
    "# Creating ndarrays"
   ]
  },
  {
   "cell_type": "code",
   "execution_count": 9,
   "id": "fab289a3",
   "metadata": {},
   "outputs": [
    {
     "data": {
      "text/plain": [
       "array([2, 3, 4, 5, 6, 7, 8, 9, 0])"
      ]
     },
     "execution_count": 9,
     "metadata": {},
     "output_type": "execute_result"
    }
   ],
   "source": [
    "#using the array function, array();\n",
    "\n",
    "data=[2,3,4,5,6,7,8,9,0]\n",
    "arr=np.array(data)\n",
    "arr"
   ]
  },
  {
   "cell_type": "code",
   "execution_count": 10,
   "id": "b39f932e",
   "metadata": {},
   "outputs": [
    {
     "data": {
      "text/plain": [
       "array([[1, 2, 3, 4],\n",
       "       [5, 6, 7, 8]])"
      ]
     },
     "execution_count": 10,
     "metadata": {},
     "output_type": "execute_result"
    }
   ],
   "source": [
    "#Nested sequences, like a list of equal-length lists, will be converted into a multidimensional array:\n",
    "data2 = [[1, 2, 3, 4], [5, 6, 7, 8]]\n",
    "arr1=np.array(data2)\n",
    "arr1"
   ]
  },
  {
   "cell_type": "code",
   "execution_count": 11,
   "id": "2172a427",
   "metadata": {},
   "outputs": [
    {
     "name": "stdout",
     "output_type": "stream",
     "text": [
      "2\n"
     ]
    },
    {
     "data": {
      "text/plain": [
       "(2, 4)"
      ]
     },
     "execution_count": 11,
     "metadata": {},
     "output_type": "execute_result"
    }
   ],
   "source": [
    "#outputting the dimesions of the arr1\n",
    "print(arr1.ndim)\n",
    "arr1.shape"
   ]
  },
  {
   "cell_type": "code",
   "execution_count": 12,
   "id": "6b744904",
   "metadata": {},
   "outputs": [
    {
     "data": {
      "text/plain": [
       "dtype('int32')"
      ]
     },
     "execution_count": 12,
     "metadata": {},
     "output_type": "execute_result"
    }
   ],
   "source": [
    "#checking for the data type of the arrays:The data type is stored \n",
    "#in a special dtype metadata object\n",
    "arr1.dtype"
   ]
  },
  {
   "cell_type": "code",
   "execution_count": 13,
   "id": "ebd23d88",
   "metadata": {},
   "outputs": [
    {
     "data": {
      "text/plain": [
       "array([[0., 0., 0., 0., 0., 0.],\n",
       "       [0., 0., 0., 0., 0., 0.],\n",
       "       [0., 0., 0., 0., 0., 0.]])"
      ]
     },
     "execution_count": 13,
     "metadata": {},
     "output_type": "execute_result"
    }
   ],
   "source": [
    "#other functions for creating new arrays are np.empty,np.zeros or np.ones for exampe;\n",
    "\n",
    "np.zeros((3,6))\n"
   ]
  },
  {
   "cell_type": "code",
   "execution_count": 14,
   "id": "54342d58",
   "metadata": {},
   "outputs": [
    {
     "data": {
      "text/plain": [
       "array([[[1.08643768e-311, 2.47032823e-322],\n",
       "        [0.00000000e+000, 0.00000000e+000],\n",
       "        [1.78019082e-306, 6.82116729e-043]],\n",
       "\n",
       "       [[4.46920089e-090, 5.19412485e+170],\n",
       "        [1.52533404e-052, 5.34965183e-038],\n",
       "        [3.99910963e+252, 1.39506508e-075]]])"
      ]
     },
     "execution_count": 14,
     "metadata": {},
     "output_type": "execute_result"
    }
   ],
   "source": [
    "np.empty((2, 3, 2))"
   ]
  },
  {
   "cell_type": "code",
   "execution_count": 15,
   "id": "171d6df6",
   "metadata": {},
   "outputs": [
    {
     "data": {
      "text/plain": [
       "array([ 0,  1,  2,  3,  4,  5,  6,  7,  8,  9, 10, 11, 12, 13, 14])"
      ]
     },
     "execution_count": 15,
     "metadata": {},
     "output_type": "execute_result"
    }
   ],
   "source": [
    "#arange is an array-valued version of the built-in Python range function:\n",
    "np.arange(15)"
   ]
  },
  {
   "cell_type": "code",
   "execution_count": 16,
   "id": "3e27e2cb",
   "metadata": {},
   "outputs": [
    {
     "data": {
      "text/plain": [
       "array([[1., 0., 0.],\n",
       "       [0., 1., 0.],\n",
       "       [0., 0., 1.]])"
      ]
     },
     "execution_count": 16,
     "metadata": {},
     "output_type": "execute_result"
    }
   ],
   "source": [
    "#identity matrix of 3X3\n",
    "\n",
    "np.identity(3)"
   ]
  },
  {
   "cell_type": "markdown",
   "id": "18b360f1",
   "metadata": {},
   "source": [
    "# Data Types for ndarrays"
   ]
  },
  {
   "cell_type": "code",
   "execution_count": 17,
   "id": "651df03f",
   "metadata": {},
   "outputs": [
    {
     "data": {
      "text/plain": [
       "array([1., 2., 3.])"
      ]
     },
     "execution_count": 17,
     "metadata": {},
     "output_type": "execute_result"
    }
   ],
   "source": [
    "#The data type or dtype is a special object containing the information (or metadata,data about data) \n",
    "#the ndarray needs to interpret a chunk of memory as a particular type of data\n",
    "\n",
    "#assigning the float dtype to the array\n",
    "arr1 = np.array([1, 2, 3], dtype=np.float64)\n",
    "arr1"
   ]
  },
  {
   "cell_type": "code",
   "execution_count": 18,
   "id": "b316c52b",
   "metadata": {},
   "outputs": [
    {
     "data": {
      "text/plain": [
       "array([1, 2, 3])"
      ]
     },
     "execution_count": 18,
     "metadata": {},
     "output_type": "execute_result"
    }
   ],
   "source": [
    "#assigning the int dtype to the array\n",
    "arr2 = np.array([1, 2, 3], dtype=np.int32)\n",
    "arr2"
   ]
  },
  {
   "cell_type": "code",
   "execution_count": 19,
   "id": "a2889225",
   "metadata": {},
   "outputs": [
    {
     "data": {
      "text/plain": [
       "array([1., 2., 4., 5., 6., 7.])"
      ]
     },
     "execution_count": 19,
     "metadata": {},
     "output_type": "execute_result"
    }
   ],
   "source": [
    "#You can explicitly convert or cast an array from one dtype to another using ndarray’s astype method\n",
    "arr=np.array([1,2,4,5,6,7], dtype=np.int64).astype(np.float64)\n",
    "arr\n"
   ]
  },
  {
   "cell_type": "code",
   "execution_count": 20,
   "id": "842c1c7b",
   "metadata": {},
   "outputs": [
    {
     "data": {
      "text/plain": [
       "array([b'1.25', b'-9.6', b'42'], dtype='|S4')"
      ]
     },
     "execution_count": 20,
     "metadata": {},
     "output_type": "execute_result"
    }
   ],
   "source": [
    "numeric_strings = np.array(['1.25', '-9.6', '42'], dtype=np.string_)\n",
    "numeric_strings.astype(np.float64)\n",
    "numeric_strings"
   ]
  },
  {
   "cell_type": "code",
   "execution_count": 21,
   "id": "0f65d519",
   "metadata": {},
   "outputs": [
    {
     "data": {
      "text/plain": [
       "array([4128860, 6029375, 3801155, 5570652, 6619251, 7536754, 7667804,\n",
       "       6619251], dtype=uint32)"
      ]
     },
     "execution_count": 21,
     "metadata": {},
     "output_type": "execute_result"
    }
   ],
   "source": [
    "#There are shorthand type code strings you can also use to refer to a dtype:\n",
    "empty_uint32 = np.empty(8, dtype='u4')\n",
    "empty_uint32\n"
   ]
  },
  {
   "cell_type": "code",
   "execution_count": 22,
   "id": "983ed803",
   "metadata": {},
   "outputs": [
    {
     "data": {
      "text/plain": [
       "array([[[1.08643768e-311, 2.47032823e-322],\n",
       "        [0.00000000e+000, 0.00000000e+000],\n",
       "        [1.78019082e-306, 6.82116729e-043]],\n",
       "\n",
       "       [[4.46920089e-090, 5.19412485e+170],\n",
       "        [1.52533404e-052, 5.34965183e-038],\n",
       "        [3.99910963e+252, 1.39506508e-075]]])"
      ]
     },
     "execution_count": 22,
     "metadata": {},
     "output_type": "execute_result"
    }
   ],
   "source": [
    "np.empty((2, 3, 2))"
   ]
  },
  {
   "cell_type": "markdown",
   "id": "c16c0ffe",
   "metadata": {},
   "source": [
    "# Data types for ndarrays"
   ]
  },
  {
   "cell_type": "code",
   "execution_count": 23,
   "id": "00b813a6",
   "metadata": {},
   "outputs": [
    {
     "data": {
      "text/plain": [
       "array([0., 1., 2., 3., 4., 5., 6., 7., 8., 9.])"
      ]
     },
     "execution_count": 23,
     "metadata": {},
     "output_type": "execute_result"
    }
   ],
   "source": [
    "#; NumPy aliases the Python types to its own equivalent data dtypes\n",
    "int_array = np.arange(10)\n",
    "calibers = np.array([.22, .270, .357, .380, .44, .50], dtype=np.float64)\n",
    "int_array.astype(calibers.dtype)"
   ]
  },
  {
   "cell_type": "code",
   "execution_count": 24,
   "id": "7709103b",
   "metadata": {},
   "outputs": [
    {
     "data": {
      "text/plain": [
       "array([      0,       1,       0, 5570652,     488,       0,     768,\n",
       "             0], dtype=uint32)"
      ]
     },
     "execution_count": 24,
     "metadata": {},
     "output_type": "execute_result"
    }
   ],
   "source": [
    "empty_uint32 = np.empty(8, dtype='u4')\n",
    "empty_uint32"
   ]
  },
  {
   "cell_type": "code",
   "execution_count": 25,
   "id": "359aa5ca",
   "metadata": {},
   "outputs": [
    {
     "data": {
      "text/plain": [
       "array([0., 0.])"
      ]
     },
     "execution_count": 25,
     "metadata": {},
     "output_type": "execute_result"
    }
   ],
   "source": [
    "np.zeros(2)"
   ]
  },
  {
   "cell_type": "markdown",
   "id": "3e8f70d9",
   "metadata": {},
   "source": [
    "# Basic Indexing and Slicing"
   ]
  },
  {
   "cell_type": "code",
   "execution_count": 26,
   "id": "2646f79c",
   "metadata": {},
   "outputs": [
    {
     "data": {
      "text/plain": [
       "array([[0, 1, 2, 3, 4],\n",
       "       [5, 6, 7, 8, 9]])"
      ]
     },
     "execution_count": 26,
     "metadata": {},
     "output_type": "execute_result"
    }
   ],
   "source": [
    "#one and two dimensional Array\n",
    "data=np.array([0,1,2,3,4,5,6,7,8,9]).reshape(2,5)\n",
    "data"
   ]
  },
  {
   "cell_type": "code",
   "execution_count": 27,
   "id": "e054c664",
   "metadata": {},
   "outputs": [
    {
     "name": "stdout",
     "output_type": "stream",
     "text": [
      "12\n",
      "[ 0  1  2  3  4 12 12 12  8  9]\n"
     ]
    }
   ],
   "source": [
    "#slicing \n",
    "data=np.array([0,1,2,3,4,5,6,7,8,9])\n",
    "array=data[5:8]=12 #replacing the values. The replace values appear in the original Array. \n",
    "print(array)\n",
    "print(data)"
   ]
  },
  {
   "cell_type": "code",
   "execution_count": 36,
   "id": "49220c3e",
   "metadata": {},
   "outputs": [
    {
     "data": {
      "text/plain": [
       "array([[[ 1.,  2.,  3.],\n",
       "        [ 4.,  5.,  6.]],\n",
       "\n",
       "       [[ 8.,  9., 10.],\n",
       "        [11., 12., 13.]]])"
      ]
     },
     "execution_count": 36,
     "metadata": {},
     "output_type": "execute_result"
    }
   ],
   "source": [
    "array1=np.array([[[1,2,3],[4,5,6]],[[8,9,10],[11,12,13]]], dtype=np.float64)\n",
    "array1"
   ]
  },
  {
   "cell_type": "code",
   "execution_count": 37,
   "id": "44079782",
   "metadata": {},
   "outputs": [],
   "source": [
    "old_values=array1[0].copy()"
   ]
  },
  {
   "cell_type": "code",
   "execution_count": 40,
   "id": "60f8c9bd",
   "metadata": {},
   "outputs": [
    {
     "data": {
      "text/plain": [
       "array([[[42., 42., 42.],\n",
       "        [42., 42., 42.]],\n",
       "\n",
       "       [[ 8.,  9., 10.],\n",
       "        [11., 12., 13.]]])"
      ]
     },
     "execution_count": 40,
     "metadata": {},
     "output_type": "execute_result"
    }
   ],
   "source": [
    "#elements in higher dimensional arrays can take both arrays and scalar values\n",
    "#example with a scalar\n",
    "array1[0]=42\n",
    "array1"
   ]
  },
  {
   "cell_type": "code",
   "execution_count": 39,
   "id": "0cfd08e3",
   "metadata": {},
   "outputs": [
    {
     "data": {
      "text/plain": [
       "array([[[ 1.,  2.,  3.],\n",
       "        [ 4.,  5.,  6.]],\n",
       "\n",
       "       [[ 8.,  9., 10.],\n",
       "        [11., 12., 13.]]])"
      ]
     },
     "execution_count": 39,
     "metadata": {},
     "output_type": "execute_result"
    }
   ],
   "source": [
    "# example with an array\n",
    "array1[0]=old_values\n",
    "array1"
   ]
  },
  {
   "cell_type": "code",
   "execution_count": 49,
   "id": "daf43d19",
   "metadata": {},
   "outputs": [
    {
     "data": {
      "text/plain": [
       "array([[1, 2, 3],\n",
       "       [4, 5, 6],\n",
       "       [7, 8, 9]])"
      ]
     },
     "execution_count": 49,
     "metadata": {},
     "output_type": "execute_result"
    }
   ],
   "source": [
    "# let consider slicing a 2-dimensional array, \n",
    "ar1=np.array([[1,2,3],[4,5,6],[7,8,9]] )\n",
    "ar1"
   ]
  },
  {
   "cell_type": "code",
   "execution_count": 51,
   "id": "a150ba91",
   "metadata": {},
   "outputs": [
    {
     "data": {
      "text/plain": [
       "array([[1, 2, 3]])"
      ]
     },
     "execution_count": 51,
     "metadata": {},
     "output_type": "execute_result"
    }
   ],
   "source": [
    "ar1[:1]"
   ]
  },
  {
   "cell_type": "code",
   "execution_count": null,
   "id": "ed8a49ab",
   "metadata": {},
   "outputs": [],
   "source": []
  }
 ],
 "metadata": {
  "kernelspec": {
   "display_name": "Python 3 (ipykernel)",
   "language": "python",
   "name": "python3"
  },
  "language_info": {
   "codemirror_mode": {
    "name": "ipython",
    "version": 3
   },
   "file_extension": ".py",
   "mimetype": "text/x-python",
   "name": "python",
   "nbconvert_exporter": "python",
   "pygments_lexer": "ipython3",
   "version": "3.9.13"
  },
  "vscode": {
   "interpreter": {
    "hash": "de47f5c92c0ee6f12a59a5613ac5feff6aab19ddff207ba0b3964cced08c4ccc"
   }
  }
 },
 "nbformat": 4,
 "nbformat_minor": 5
}
