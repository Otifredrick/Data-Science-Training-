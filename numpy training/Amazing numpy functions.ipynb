{
 "cells": [
  {
   "cell_type": "code",
   "execution_count": null,
   "metadata": {},
   "outputs": [],
   "source": [
    "# 3 hrs 20 mins"
   ]
  },
  {
   "cell_type": "code",
   "execution_count": 1,
   "metadata": {},
   "outputs": [
    {
     "name": "stdout",
     "output_type": "stream",
     "text": [
      "Requirement already satisfied: numpy in c:\\users\\pc\\anaconda3\\envs\\dfre\\lib\\site-packages (1.26.4)\n",
      "Note: you may need to restart the kernel to use updated packages.\n"
     ]
    }
   ],
   "source": [
    "pip install numpy"
   ]
  },
  {
   "cell_type": "markdown",
   "metadata": {},
   "source": [
    "# Transpose-like operations"
   ]
  },
  {
   "cell_type": "markdown",
   "metadata": {},
   "source": [
    "Imagine you have a 3D array, where the dimensions represent different features, like height, width, and depth. Initially, the dimensions are in the order (height, width, depth). If you want to rearrange these dimensions to a different order, say (depth, height, width), you would use np.moveaxis.\n",
    "\n",
    "In this example:\n",
    "\n",
    "The original array, a, is of shape (3, 4, 5), representing (height, width, depth).\n",
    "The source represents the original positions of the axes. In this case, (0, 1, 2) for (height, width, depth).\n",
    "The destination represents the new positions. In our example, to rearrange to (depth, height, width), the destination would be (2, 0, 1).\n",
    "Let's create an array and apply np.moveaxis to it.\n",
    "\n",
    "After applying np.moveaxis to rearrange the dimensions of the array from (height, width, depth) to (depth, height, width), the shape of the array changed from (3, 4, 5) to (4, 5, 3). This change reflects the new arrangement of the axes: the depth (originally the third dimension) is now the first, the height (originally the first dimension) is now the second, and the width (originally the second dimension) is now the third. ​"
   ]
  },
  {
   "cell_type": "code",
   "execution_count": 2,
   "metadata": {},
   "outputs": [
    {
     "data": {
      "text/plain": [
       "array([[[1., 1., 1., 1., 1.],\n",
       "        [1., 1., 1., 1., 1.],\n",
       "        [1., 1., 1., 1., 1.],\n",
       "        [1., 1., 1., 1., 1.]],\n",
       "\n",
       "       [[1., 1., 1., 1., 1.],\n",
       "        [1., 1., 1., 1., 1.],\n",
       "        [1., 1., 1., 1., 1.],\n",
       "        [1., 1., 1., 1., 1.]],\n",
       "\n",
       "       [[1., 1., 1., 1., 1.],\n",
       "        [1., 1., 1., 1., 1.],\n",
       "        [1., 1., 1., 1., 1.],\n",
       "        [1., 1., 1., 1., 1.]]])"
      ]
     },
     "execution_count": 2,
     "metadata": {},
     "output_type": "execute_result"
    }
   ],
   "source": [
    "# moveaxis(a, source, destination)-Move axes of an array to new positions.\n",
    "#example \n",
    "import numpy as np\n",
    "# Creating a 3D array of shape (3, 4, 5)\n",
    "a = np.ones((3, 4, 5))\n",
    "a\n"
   ]
  },
  {
   "cell_type": "code",
   "execution_count": 6,
   "metadata": {},
   "outputs": [
    {
     "data": {
      "text/plain": [
       "(3, 4, 5)"
      ]
     },
     "execution_count": 6,
     "metadata": {},
     "output_type": "execute_result"
    }
   ],
   "source": [
    "a.shape"
   ]
  },
  {
   "cell_type": "code",
   "execution_count": 5,
   "metadata": {},
   "outputs": [
    {
     "data": {
      "text/plain": [
       "(4, 5, 3)"
      ]
     },
     "execution_count": 5,
     "metadata": {},
     "output_type": "execute_result"
    }
   ],
   "source": [
    "# Moving axes to rearrange dimensions from (height, width, depth) to (depth, height, width)\n",
    "moved_a = np.moveaxis(a, source=[0, 1, 2], destination=[2, 0, 1])\n",
    "moved_a.shape"
   ]
  },
  {
   "cell_type": "code",
   "execution_count": null,
   "metadata": {},
   "outputs": [],
   "source": []
  }
 ],
 "metadata": {
  "kernelspec": {
   "display_name": "dfre",
   "language": "python",
   "name": "python3"
  },
  "language_info": {
   "codemirror_mode": {
    "name": "ipython",
    "version": 3
   },
   "file_extension": ".py",
   "mimetype": "text/x-python",
   "name": "python",
   "nbconvert_exporter": "python",
   "pygments_lexer": "ipython3",
   "version": "3.12.2"
  }
 },
 "nbformat": 4,
 "nbformat_minor": 2
}
