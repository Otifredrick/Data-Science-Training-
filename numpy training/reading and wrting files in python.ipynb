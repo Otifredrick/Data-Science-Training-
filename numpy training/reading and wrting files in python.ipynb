{
 "cells": [
  {
   "cell_type": "code",
   "execution_count": null,
   "metadata": {},
   "outputs": [],
   "source": []
  },
  {
   "cell_type": "markdown",
   "metadata": {},
   "source": [
    "## Interacting with Os and the File system \n",
    "\n",
    "The os module in python provides many functions for interacting with the os and filesystem "
   ]
  },
  {
   "cell_type": "code",
   "execution_count": 1,
   "metadata": {},
   "outputs": [],
   "source": [
    "import os "
   ]
  },
  {
   "cell_type": "code",
   "execution_count": 2,
   "metadata": {},
   "outputs": [
    {
     "data": {
      "text/plain": [
       "'c:\\\\Users\\\\PC\\\\Desktop\\\\Home\\\\data science Training\\\\numpy training\\\\.ipynb_checkpoints'"
      ]
     },
     "execution_count": 2,
     "metadata": {},
     "output_type": "execute_result"
    }
   ],
   "source": [
    "#we can chcekc the present working directory using the os.getcwd function.\n",
    "#example\n",
    "os.getcwd()"
   ]
  },
  {
   "cell_type": "code",
   "execution_count": 3,
   "metadata": {},
   "outputs": [
    {
     "name": "stdout",
     "output_type": "stream",
     "text": [
      "Help on built-in function listdir in module nt:\n",
      "\n",
      "listdir(path=None)\n",
      "    Return a list containing the names of the files in the directory.\n",
      "\n",
      "    path can be specified as either str, bytes, or a path-like object.  If path is bytes,\n",
      "      the filenames returned will also be bytes; in all other circumstances\n",
      "      the filenames returned will be str.\n",
      "    If path is None, uses the path='.'.\n",
      "    On some platforms, path may also be specified as an open file descriptor;\\\n",
      "      the file descriptor must refer to a directory.\n",
      "      If this functionality is unavailable, using it raises NotImplementedError.\n",
      "\n",
      "    The list is in arbitrary order.  It does not include the special\n",
      "    entries '.' and '..' even if they are present in the directory.\n",
      "\n"
     ]
    }
   ],
   "source": [
    "# to get the list files in the directory, we use the function os.listdir. You pass an absolute or relative path of a directory as the argument to th function.\n",
    "help(os.listdir)"
   ]
  },
  {
   "cell_type": "code",
   "execution_count": 4,
   "metadata": {},
   "outputs": [
    {
     "data": {
      "text/plain": [
       "['Amazing numpy functions.ipynb',\n",
       " 'basics of numpy-checkpoint.ipynb',\n",
       " 'data',\n",
       " 'reading and wrting files in python.ipynb']"
      ]
     },
     "execution_count": 4,
     "metadata": {},
     "output_type": "execute_result"
    }
   ],
   "source": [
    "#f no path is provided, listdir defaults to the current directory.\n",
    "os.listdir()"
   ]
  },
  {
   "cell_type": "code",
   "execution_count": 5,
   "metadata": {},
   "outputs": [
    {
     "data": {
      "text/plain": [
       "['.ipynb_checkpoints', 'basics of numpy.ipynb']"
      ]
     },
     "execution_count": 5,
     "metadata": {},
     "output_type": "execute_result"
    }
   ],
   "source": [
    "# listing of files in the parent directory\n",
    "os.listdir(\"..\")"
   ]
  },
  {
   "cell_type": "code",
   "execution_count": 6,
   "metadata": {},
   "outputs": [
    {
     "name": "stdout",
     "output_type": "stream",
     "text": [
      ".ipynb_checkpoints\n",
      "basics of numpy.ipynb\n"
     ]
    }
   ],
   "source": [
    "#List the contents of a specific directory by providing its path as a string\n",
    "content= os.listdir(\"c:\\\\Users\\\\PC\\\\Desktop\\\\Home\\\\data science Training\\\\numpy training\")\n",
    "for entry in content:\n",
    "    print(entry)"
   ]
  },
  {
   "cell_type": "code",
   "execution_count": 7,
   "metadata": {},
   "outputs": [
    {
     "name": "stdout",
     "output_type": "stream",
     "text": [
      "b'.ipynb_checkpoints'\n",
      "b'basics of numpy.ipynb'\n"
     ]
    }
   ],
   "source": [
    "#list the content of a specific directory by providing its path as a byte\n",
    "content=os.listdir(b\"c:\\\\Users\\\\PC\\\\Desktop\\\\Home\\\\data science Training\\\\numpy training\")\n",
    "for entry in content:\n",
    "    print(entry)"
   ]
  },
  {
   "cell_type": "code",
   "execution_count": 8,
   "metadata": {},
   "outputs": [
    {
     "name": "stdout",
     "output_type": "stream",
     "text": [
      "Directory not found.\n"
     ]
    }
   ],
   "source": [
    "#Handle potential exceptions such as FileNotFoundError and PermissionError.\n",
    "import os\n",
    "\n",
    "path = '/non/existent/path'  # Example path that might not exist\n",
    "try:\n",
    "    for entry in os.listdir(path):\n",
    "        print(entry)\n",
    "except FileNotFoundError:\n",
    "    print(\"Directory not found.\")\n",
    "except PermissionError:\n",
    "    print(\"Permission denied.\")"
   ]
  },
  {
   "cell_type": "code",
   "execution_count": 9,
   "metadata": {},
   "outputs": [],
   "source": [
    "#A new directory can be created using the os.makedirs \n",
    "#let created a new directory called data, where we'll later download some files.\n",
    "os.makedirs(\"./data\",exist_ok=True)\n",
    "#exist_ok=True: this is a parameter that tells the function how to handle the scenario where the directory already exists.\n",
    "#If exist_ok is set to True, the function will not raise an error if the directory already exists; it will simply do nothing."
   ]
  },
  {
   "cell_type": "code",
   "execution_count": 10,
   "metadata": {},
   "outputs": [
    {
     "data": {
      "text/plain": [
       "True"
      ]
     },
     "execution_count": 10,
     "metadata": {},
     "output_type": "execute_result"
    }
   ],
   "source": [
    "#confirming that the directory has been indeed created\n",
    "'data' in os.listdir('.')"
   ]
  },
  {
   "cell_type": "code",
   "execution_count": 11,
   "metadata": {},
   "outputs": [],
   "source": [
    "#let at us download some files into the data directory using the urlib module\n",
    "url1='https://gist.githubusercontent.com/aakashns/8de7b03f241b787042be1a1e4afd91da/raw/a15ba86d0260ca2d2615afa9d809bf4be019ab3d/loans1.txt'\n",
    "url2='https://gist.githubusercontent.com/aakashns/8de7b03f241b787042be1a1e4afd91da/raw/a15ba86d0260ca2d2615afa9d809bf4be019ab3d/loans2.txt'\n",
    "url3='https://gist.githubusercontent.com/aakashns/8de7b03f241b787042be1a1e4afd91da/raw/a15ba86d0260ca2d2615afa9d809bf4be019ab3d/loans3.txt'"
   ]
  },
  {
   "cell_type": "code",
   "execution_count": 12,
   "metadata": {},
   "outputs": [],
   "source": [
    "import urllib.request"
   ]
  },
  {
   "cell_type": "code",
   "execution_count": 13,
   "metadata": {},
   "outputs": [
    {
     "data": {
      "text/plain": [
       "('./data/loans3.txt', <http.client.HTTPMessage at 0x13d5f3a98e0>)"
      ]
     },
     "execution_count": 13,
     "metadata": {},
     "output_type": "execute_result"
    }
   ],
   "source": [
    "urllib.request.urlretrieve(url1,'./data/loans1.txt')\n",
    "urllib.request.urlretrieve(url2,'./data/loans2.txt')\n",
    "urllib.request.urlretrieve(url3,'./data/loans3.txt')"
   ]
  },
  {
   "cell_type": "code",
   "execution_count": 14,
   "metadata": {},
   "outputs": [
    {
     "data": {
      "text/plain": [
       "['loans1.txt', 'loans2.txt', 'loans3.txt']"
      ]
     },
     "execution_count": 14,
     "metadata": {},
     "output_type": "execute_result"
    }
   ],
   "source": [
    "#let's confirm that the files were downloaded\n",
    "os.listdir('./data')"
   ]
  },
  {
   "cell_type": "markdown",
   "metadata": {},
   "source": [
    "## Reading from a file \n",
    "To read the contents of a file, we need to open the file using the built-in open function. The open function returns a file object, provides several methods for interacting with the contents of the file. It also accepts a mode argument. \n",
    "The mode function specifies our intended interaction with the file. That is to say:\n",
    "\n",
    "'r'-open for reading (default)\n",
    "\n",
    "'w'-open for writing, truncating the file first\n",
    "\n",
    "'x'-creating a new file and open it for writing \n",
    "\n",
    "'a'-open for writing, appending to the end of the file if it exists\n",
    "\n",
    "'b'-binary mode\n",
    "\n",
    "'t'-text mode (default)\n",
    "\n",
    "'+'open a disk file for updating (reading and writing)\n",
    "\n",
    "'U'-universal newline mode (deprecated)"
   ]
  },
  {
   "cell_type": "code",
   "execution_count": 15,
   "metadata": {},
   "outputs": [],
   "source": [
    "file1=open('./data/loans1.txt', mode='r')"
   ]
  },
  {
   "cell_type": "code",
   "execution_count": 16,
   "metadata": {},
   "outputs": [
    {
     "name": "stdout",
     "output_type": "stream",
     "text": [
      "amount,duration,rate,down_payment\n",
      "10000,36,0.08,20000\n",
      "200000,12,0.1,\n",
      "628400,120,0.12,100000\n",
      "4637400,240,0.06,\n",
      "42900,90,0.07,8900\n",
      "916000,16,0.13,\n",
      "45230,48,0.08,4300\n",
      "991360,99,0.08,\n",
      "423000,27,0.09,47200\n"
     ]
    }
   ],
   "source": [
    "#To view the contents of the file we can use use read method of the file object\n",
    "file1_contents=file1.read()\n",
    "print(file1_contents)"
   ]
  },
  {
   "cell_type": "code",
   "execution_count": 17,
   "metadata": {},
   "outputs": [
    {
     "data": {
      "text/plain": [
       "str"
      ]
     },
     "execution_count": 17,
     "metadata": {},
     "output_type": "execute_result"
    }
   ],
   "source": [
    "# it is a string file as you can see\n",
    "type(file1_contents)"
   ]
  },
  {
   "cell_type": "code",
   "execution_count": 18,
   "metadata": {},
   "outputs": [],
   "source": [
    "#it is important to close files because they are store in Ram this might take a lot of space hence heating the machine slowing its processor speed\n",
    "file1.close()"
   ]
  },
  {
   "cell_type": "markdown",
   "metadata": {},
   "source": [
    "## Closing files automatically using with\n",
    "\n",
    "To make it easy to automatically close a file once you are done processing it, you can open it using the with statement."
   ]
  },
  {
   "cell_type": "code",
   "execution_count": 19,
   "metadata": {},
   "outputs": [
    {
     "name": "stdout",
     "output_type": "stream",
     "text": [
      "amount,duration,rate,down_payment\n",
      "828400,120,0.11,100000\n",
      "4633400,240,0.06,\n",
      "42900,90,0.08,8900\n",
      "983000,16,0.14,\n",
      "15230,48,0.07,4300\n",
      "\n"
     ]
    }
   ],
   "source": [
    "with open('./data/loans2.txt', 'r') as file2:\n",
    "    file2_contents=file2.read()\n",
    "    print(file2_contents)\n",
    "#once the statement within the the with block are executed the .close method of file2 is automatically invoked. "
   ]
  },
  {
   "cell_type": "code",
   "execution_count": 20,
   "metadata": {},
   "outputs": [
    {
     "name": "stdout",
     "output_type": "stream",
     "text": [
      "The file is closed\n"
     ]
    }
   ],
   "source": [
    "#to confirm this, let's try reading the content of the file once again\n",
    "try:\n",
    "    print(file2.read())\n",
    "except ValueError:\n",
    "    print(\"The file is closed\")\n"
   ]
  },
  {
   "cell_type": "markdown",
   "metadata": {},
   "source": [
    "## Reading a file line by line\n",
    "File objects provide a readlines method to read a file line--by-line"
   ]
  },
  {
   "cell_type": "code",
   "execution_count": 21,
   "metadata": {},
   "outputs": [
    {
     "name": "stdout",
     "output_type": "stream",
     "text": [
      "['amount,duration,rate,down_payment\\n', '883000,16,0.14,\\n', '45230,48,0.07,4300\\n', '100000,12,0.1,\\n', '728400,120,0.12,100000\\n', '3637400,240,0.06,\\n', '82900,90,0.07,8900\\n', '316000,16,0.13,\\n', '15230,48,0.08,4300\\n', '991360,99,0.08,\\n', '323000,27,0.09,47200\\n', '10000,36,0.08,20000\\n', '528400,120,0.11,100000\\n', '8633400,240,0.06,\\n', '12900,90,0.08,8900\\n']\n"
     ]
    }
   ],
   "source": [
    "with open('./data/loans3.txt') as file3:\n",
    "    file3_lines=file3.readlines()\n",
    "    print(file3_lines)\n"
   ]
  },
  {
   "cell_type": "markdown",
   "metadata": {},
   "source": [
    "## Processing Data from files\n",
    "\n",
    "It is important to convert the content of files from large string data files before processing. For instance, the file, loans1.txt containing information about loans in a csv format, we can perform the following:\n",
    "1. Read the file line by line \n",
    "\n",
    "2. Parse the first line to get the list of the column names or headers \n",
    "\n",
    "3.Split each remaining line and convert each into a float\n",
    "\n",
    "4.Create a dictionary for each loan using headers as keys \n",
    "\n",
    "5.Create a list of dictionaries to keep track of all loans \n",
    "\n",
    "Since all the other files will require the same operations, it would be useful to define a function read_csv to do this. We'll also define some helper functions to build up the functionality step by step."
   ]
  },
  {
   "cell_type": "code",
   "execution_count": 22,
   "metadata": {},
   "outputs": [],
   "source": [
    "def parse_headers(header_line):\n",
    "    return header_line.strip().split(',')"
   ]
  },
  {
   "cell_type": "code",
   "execution_count": 23,
   "metadata": {},
   "outputs": [
    {
     "data": {
      "text/plain": [
       "['amount', 'duration', 'rate', 'down_payment']"
      ]
     },
     "execution_count": 23,
     "metadata": {},
     "output_type": "execute_result"
    }
   ],
   "source": [
    "headers=parse_headers(file3_lines[0])\n",
    "headers"
   ]
  },
  {
   "cell_type": "code",
   "execution_count": 24,
   "metadata": {},
   "outputs": [],
   "source": [
    "def parse_values(data_line):\n",
    "    values=[]\n",
    "    for item in data_line.strip().split(','):\n",
    "        if item=='':\n",
    "            #how to handle missing values in a file\n",
    "            values.append(0.0)\n",
    "        else:\n",
    "            values.append(float(item))\n",
    "    return values"
   ]
  },
  {
   "cell_type": "code",
   "execution_count": 25,
   "metadata": {},
   "outputs": [
    {
     "data": {
      "text/plain": [
       "[45230.0, 48.0, 0.07, 4300.0]"
      ]
     },
     "execution_count": 25,
     "metadata": {},
     "output_type": "execute_result"
    }
   ],
   "source": [
    "parse_values(file3_lines[2])"
   ]
  },
  {
   "cell_type": "markdown",
   "metadata": {},
   "source": [
    "let's define a function create_item_dict which takes a slist of values and a list of headers as inputs and returns a dictionary with the values associated with their respective headers as keys"
   ]
  },
  {
   "cell_type": "code",
   "execution_count": 26,
   "metadata": {},
   "outputs": [],
   "source": [
    "def create_item_dict(values,headers):\n",
    "    result={}\n",
    "    for value,header in zip(values,headers):\n",
    "        result[header]=value\n",
    "    return result\n"
   ]
  },
  {
   "cell_type": "code",
   "execution_count": 27,
   "metadata": {},
   "outputs": [],
   "source": [
    "values1=parse_values(file3_lines[2])"
   ]
  },
  {
   "cell_type": "code",
   "execution_count": 28,
   "metadata": {},
   "outputs": [
    {
     "data": {
      "text/plain": [
       "{'amount': 45230.0, 'duration': 48.0, 'rate': 0.07, 'down_payment': 4300.0}"
      ]
     },
     "execution_count": 28,
     "metadata": {},
     "output_type": "execute_result"
    }
   ],
   "source": [
    "create_item_dict(values1,headers)"
   ]
  },
  {
   "cell_type": "markdown",
   "metadata": {},
   "source": [
    "We can put it all together and define the read_csv function"
   ]
  },
  {
   "cell_type": "code",
   "execution_count": 29,
   "metadata": {},
   "outputs": [],
   "source": [
    "def read_csv(path):\n",
    "    result=[]\n",
    "    #open the file in a read mode\n",
    "    with open(path, 'r') as f:\n",
    "        #get a list of lines\n",
    "        lines=f.readlines()\n",
    "        #parse the header\n",
    "        headers=parse_headers(lines[0])\n",
    "        #loop over the remaining lines\n",
    "        for data_line in lines[1:]:\n",
    "            #parse the values\n",
    "            values=parse_values(data_line)\n",
    "            #creat a dictionary using values # headers\n",
    "            item_dict=create_item_dict(values,headers)\n",
    "            #add the dictionary to the result\n",
    "            result.append(item_dict)\n",
    "    return result\n"
   ]
  },
  {
   "cell_type": "code",
   "execution_count": 30,
   "metadata": {},
   "outputs": [
    {
     "data": {
      "text/plain": [
       "[{'amount': 10000.0, 'duration': 36.0, 'rate': 0.08, 'down_payment': 20000.0},\n",
       " {'amount': 200000.0, 'duration': 12.0, 'rate': 0.1, 'down_payment': 0.0},\n",
       " {'amount': 628400.0,\n",
       "  'duration': 120.0,\n",
       "  'rate': 0.12,\n",
       "  'down_payment': 100000.0},\n",
       " {'amount': 4637400.0, 'duration': 240.0, 'rate': 0.06, 'down_payment': 0.0},\n",
       " {'amount': 42900.0, 'duration': 90.0, 'rate': 0.07, 'down_payment': 8900.0},\n",
       " {'amount': 916000.0, 'duration': 16.0, 'rate': 0.13, 'down_payment': 0.0},\n",
       " {'amount': 45230.0, 'duration': 48.0, 'rate': 0.08, 'down_payment': 4300.0},\n",
       " {'amount': 991360.0, 'duration': 99.0, 'rate': 0.08, 'down_payment': 0.0},\n",
       " {'amount': 423000.0, 'duration': 27.0, 'rate': 0.09, 'down_payment': 47200.0}]"
      ]
     },
     "execution_count": 30,
     "metadata": {},
     "output_type": "execute_result"
    }
   ],
   "source": [
    "read_csv('./data/loans1.txt')"
   ]
  },
  {
   "cell_type": "code",
   "execution_count": null,
   "metadata": {},
   "outputs": [],
   "source": []
  }
 ],
 "metadata": {
  "kernelspec": {
   "display_name": "dfre",
   "language": "python",
   "name": "python3"
  },
  "language_info": {
   "codemirror_mode": {
    "name": "ipython",
    "version": 3
   },
   "file_extension": ".py",
   "mimetype": "text/x-python",
   "name": "python",
   "nbconvert_exporter": "python",
   "pygments_lexer": "ipython3",
   "version": "3.12.2"
  }
 },
 "nbformat": 4,
 "nbformat_minor": 2
}
