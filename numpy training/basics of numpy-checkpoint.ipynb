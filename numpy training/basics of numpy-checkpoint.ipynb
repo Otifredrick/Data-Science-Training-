{
 "cells": [
  {
   "cell_type": "code",
   "execution_count": 1,
   "id": "07c45058",
   "metadata": {},
   "outputs": [],
   "source": [
    "import numpy as np\n",
    "import time\n"
   ]
  },
  {
   "cell_type": "code",
   "execution_count": 2,
   "id": "32d4a775",
   "metadata": {},
   "outputs": [],
   "source": [
    "my_arr=np.arange(100000)"
   ]
  },
  {
   "cell_type": "code",
   "execution_count": 3,
   "id": "9f8c70b8",
   "metadata": {},
   "outputs": [],
   "source": [
    "my_list=list(range(100000))"
   ]
  },
  {
   "cell_type": "code",
   "execution_count": 4,
   "id": "dbe322fe",
   "metadata": {},
   "outputs": [
    {
     "name": "stdout",
     "output_type": "stream",
     "text": [
      "0.04793548583984375\n"
     ]
    }
   ],
   "source": [
    "t1=time.time()\n",
    "for num in my_arr:\n",
    "    num *2\n",
    "t2=time.time()\n",
    "t_diff=t2-t1\n",
    "\n",
    "print(t_diff)\n",
    "    "
   ]
  },
  {
   "cell_type": "code",
   "execution_count": 5,
   "id": "ac776294",
   "metadata": {},
   "outputs": [
    {
     "name": "stdout",
     "output_type": "stream",
     "text": [
      "0.0\n"
     ]
    }
   ],
   "source": [
    "t1=time.time()\n",
    "for num in my_list:\n",
    "    num*2\n",
    "t2=time.time()\n",
    "t_diff=t2-t1\n",
    "print(t_diff)\n"
   ]
  },
  {
   "cell_type": "markdown",
   "id": "c8876c52",
   "metadata": {},
   "source": [
    "# The NumPy ndarray: A Multidimensional Array Object"
   ]
  },
  {
   "cell_type": "code",
   "execution_count": 6,
   "id": "959dd185",
   "metadata": {},
   "outputs": [
    {
     "data": {
      "text/plain": [
       "array([[ 2.8046044 ,  6.80268875,  4.70218844,  3.25444753],\n",
       "       [ 3.03706901,  3.59349719,  6.14289682, -1.84066637]])"
      ]
     },
     "execution_count": 6,
     "metadata": {},
     "output_type": "execute_result"
    }
   ],
   "source": [
    "#random numbers sampled from a normal(gaussian) distribution with mean 3 and standard deviation 2.5.\n",
    "data=3 + 2.5 * np.random.randn(2, 4)\n",
    "data"
   ]
  },
  {
   "cell_type": "code",
   "execution_count": 7,
   "id": "5b8b00c9",
   "metadata": {},
   "outputs": [
    {
     "data": {
      "text/plain": [
       "array([[ 5.60920881, 13.6053775 ,  9.40437689,  6.50889505],\n",
       "       [ 6.07413803,  7.18699439, 12.28579363, -3.68133274]])"
      ]
     },
     "execution_count": 7,
     "metadata": {},
     "output_type": "execute_result"
    }
   ],
   "source": [
    "#summing the data array with itself;\n",
    "#it performs the normal matrix operations\n",
    "su_m=data+data \n",
    "su_m"
   ]
  },
  {
   "cell_type": "code",
   "execution_count": 8,
   "id": "f23883de",
   "metadata": {},
   "outputs": [
    {
     "data": {
      "text/plain": [
       "array([[ 7.86580586, 46.27657421, 22.11057616, 10.5914287 ],\n",
       "       [ 9.2237882 , 12.91322207, 37.7351813 ,  3.38805268]])"
      ]
     },
     "execution_count": 8,
     "metadata": {},
     "output_type": "execute_result"
    }
   ],
   "source": [
    "#multiplying the data array with itself;\n",
    "#it performs the normal matrix operations\n",
    "mult=data*data\n",
    "mult"
   ]
  },
  {
   "cell_type": "markdown",
   "id": "cd549551",
   "metadata": {},
   "source": [
    "# Creating ndarrays"
   ]
  },
  {
   "cell_type": "code",
   "execution_count": 9,
   "id": "fab289a3",
   "metadata": {},
   "outputs": [
    {
     "data": {
      "text/plain": [
       "array([2, 3, 4, 5, 6, 7, 8, 9, 0])"
      ]
     },
     "execution_count": 9,
     "metadata": {},
     "output_type": "execute_result"
    }
   ],
   "source": [
    "#using the array function, array();\n",
    "\n",
    "data=[2,3,4,5,6,7,8,9,0]\n",
    "arr=np.array(data)\n",
    "arr"
   ]
  },
  {
   "cell_type": "code",
   "execution_count": 10,
   "id": "b39f932e",
   "metadata": {},
   "outputs": [
    {
     "data": {
      "text/plain": [
       "array([[1, 2, 3, 4],\n",
       "       [5, 6, 7, 8]])"
      ]
     },
     "execution_count": 10,
     "metadata": {},
     "output_type": "execute_result"
    }
   ],
   "source": [
    "#Nested sequences, like a list of equal-length lists, will be converted into a multidimensional array:\n",
    "data2 = [[1, 2, 3, 4], [5, 6, 7, 8]]\n",
    "arr1=np.array(data2)\n",
    "arr1"
   ]
  },
  {
   "cell_type": "code",
   "execution_count": 11,
   "id": "2172a427",
   "metadata": {},
   "outputs": [
    {
     "name": "stdout",
     "output_type": "stream",
     "text": [
      "2\n"
     ]
    },
    {
     "data": {
      "text/plain": [
       "(2, 4)"
      ]
     },
     "execution_count": 11,
     "metadata": {},
     "output_type": "execute_result"
    }
   ],
   "source": [
    "#outputting the dimesions of the arr1\n",
    "print(arr1.ndim)\n",
    "arr1.shape"
   ]
  },
  {
   "cell_type": "code",
   "execution_count": 12,
   "id": "6b744904",
   "metadata": {},
   "outputs": [
    {
     "data": {
      "text/plain": [
       "dtype('int32')"
      ]
     },
     "execution_count": 12,
     "metadata": {},
     "output_type": "execute_result"
    }
   ],
   "source": [
    "#checking for the data type of the arrays:The data type is stored \n",
    "#in a special dtype metadata object\n",
    "arr1.dtype"
   ]
  },
  {
   "cell_type": "code",
   "execution_count": 13,
   "id": "ebd23d88",
   "metadata": {},
   "outputs": [
    {
     "data": {
      "text/plain": [
       "array([[0., 0., 0., 0., 0., 0.],\n",
       "       [0., 0., 0., 0., 0., 0.],\n",
       "       [0., 0., 0., 0., 0., 0.]])"
      ]
     },
     "execution_count": 13,
     "metadata": {},
     "output_type": "execute_result"
    }
   ],
   "source": [
    "#other functions for creating new arrays are np.empty,np.zeros or np.ones for exampe;\n",
    "\n",
    "np.zeros((3,6))\n"
   ]
  },
  {
   "cell_type": "code",
   "execution_count": 14,
   "id": "54342d58",
   "metadata": {},
   "outputs": [
    {
     "data": {
      "text/plain": [
       "array([[[1.10021191e-311, 2.47032823e-322],\n",
       "        [0.00000000e+000, 0.00000000e+000],\n",
       "        [1.08221785e-312, 5.64233733e-067]],\n",
       "\n",
       "       [[6.19556846e-091, 6.70370897e+170],\n",
       "        [1.56109249e+184, 3.56727353e-057],\n",
       "        [3.99910963e+252, 8.37918049e+165]]])"
      ]
     },
     "execution_count": 14,
     "metadata": {},
     "output_type": "execute_result"
    }
   ],
   "source": [
    "np.empty((2, 3, 2))"
   ]
  },
  {
   "cell_type": "code",
   "execution_count": 15,
   "id": "171d6df6",
   "metadata": {},
   "outputs": [
    {
     "data": {
      "text/plain": [
       "array([ 0,  1,  2,  3,  4,  5,  6,  7,  8,  9, 10, 11, 12, 13, 14])"
      ]
     },
     "execution_count": 15,
     "metadata": {},
     "output_type": "execute_result"
    }
   ],
   "source": [
    "#arange is an array-valued version of the built-in Python range function:\n",
    "np.arange(15)"
   ]
  },
  {
   "cell_type": "code",
   "execution_count": 16,
   "id": "3e27e2cb",
   "metadata": {},
   "outputs": [
    {
     "data": {
      "text/plain": [
       "array([[1., 0., 0.],\n",
       "       [0., 1., 0.],\n",
       "       [0., 0., 1.]])"
      ]
     },
     "execution_count": 16,
     "metadata": {},
     "output_type": "execute_result"
    }
   ],
   "source": [
    "#identity matrix of 3X3\n",
    "\n",
    "np.identity(3)"
   ]
  },
  {
   "cell_type": "markdown",
   "id": "18b360f1",
   "metadata": {},
   "source": [
    "# Data Types for ndarrays"
   ]
  },
  {
   "cell_type": "code",
   "execution_count": 17,
   "id": "651df03f",
   "metadata": {},
   "outputs": [
    {
     "data": {
      "text/plain": [
       "array([1., 2., 3.])"
      ]
     },
     "execution_count": 17,
     "metadata": {},
     "output_type": "execute_result"
    }
   ],
   "source": [
    "#The data type or dtype is a special object containing the information (or metadata,data about data) \n",
    "#the ndarray needs to interpret a chunk of memory as a particular type of data\n",
    "\n",
    "#assigning the float dtype to the array\n",
    "arr1 = np.array([1, 2, 3], dtype=np.float64)\n",
    "arr1"
   ]
  },
  {
   "cell_type": "code",
   "execution_count": 18,
   "id": "b316c52b",
   "metadata": {},
   "outputs": [
    {
     "data": {
      "text/plain": [
       "array([1, 2, 3])"
      ]
     },
     "execution_count": 18,
     "metadata": {},
     "output_type": "execute_result"
    }
   ],
   "source": [
    "#assigning the int dtype to the array\n",
    "arr2 = np.array([1, 2, 3], dtype=np.int32)\n",
    "arr2"
   ]
  },
  {
   "cell_type": "code",
   "execution_count": 19,
   "id": "a2889225",
   "metadata": {},
   "outputs": [
    {
     "data": {
      "text/plain": [
       "array([1., 2., 4., 5., 6., 7.])"
      ]
     },
     "execution_count": 19,
     "metadata": {},
     "output_type": "execute_result"
    }
   ],
   "source": [
    "#You can explicitly convert or cast an array from one dtype to another using ndarray’s astype method\n",
    "arr=np.array([1,2,4,5,6,7], dtype=np.int64).astype(np.float64)\n",
    "arr\n"
   ]
  },
  {
   "cell_type": "code",
   "execution_count": 20,
   "id": "842c1c7b",
   "metadata": {},
   "outputs": [
    {
     "data": {
      "text/plain": [
       "array([b'1.25', b'-9.6', b'42'], dtype='|S4')"
      ]
     },
     "execution_count": 20,
     "metadata": {},
     "output_type": "execute_result"
    }
   ],
   "source": [
    "numeric_strings = np.array(['1.25', '-9.6', '42'], dtype=np.string_)\n",
    "numeric_strings.astype(np.float64)\n",
    "numeric_strings"
   ]
  },
  {
   "cell_type": "code",
   "execution_count": 21,
   "id": "0f65d519",
   "metadata": {},
   "outputs": [
    {
     "data": {
      "text/plain": [
       "array([4128860, 6029375, 3801155, 5570652, 6619251, 7536754, 7667804,\n",
       "       6619251], dtype=uint32)"
      ]
     },
     "execution_count": 21,
     "metadata": {},
     "output_type": "execute_result"
    }
   ],
   "source": [
    "#There are shorthand type code strings you can also use to refer to a dtype:\n",
    "empty_uint32 = np.empty(8, dtype='u4')\n",
    "empty_uint32\n"
   ]
  },
  {
   "cell_type": "code",
   "execution_count": 22,
   "id": "983ed803",
   "metadata": {},
   "outputs": [
    {
     "data": {
      "text/plain": [
       "array([[[1.10021191e-311, 2.47032823e-322],\n",
       "        [0.00000000e+000, 0.00000000e+000],\n",
       "        [1.08221785e-312, 5.64233733e-067]],\n",
       "\n",
       "       [[6.19556846e-091, 6.70370897e+170],\n",
       "        [1.56109249e+184, 3.56727353e-057],\n",
       "        [3.99910963e+252, 8.37918049e+165]]])"
      ]
     },
     "execution_count": 22,
     "metadata": {},
     "output_type": "execute_result"
    }
   ],
   "source": [
    "np.empty((2, 3, 2))"
   ]
  },
  {
   "cell_type": "markdown",
   "id": "c16c0ffe",
   "metadata": {},
   "source": [
    "# data types for ndarrays"
   ]
  },
  {
   "cell_type": "code",
   "execution_count": 23,
   "id": "00b813a6",
   "metadata": {},
   "outputs": [
    {
     "data": {
      "text/plain": [
       "array([0., 1., 2., 3., 4., 5., 6., 7., 8., 9.])"
      ]
     },
     "execution_count": 23,
     "metadata": {},
     "output_type": "execute_result"
    }
   ],
   "source": [
    "#; NumPy aliases the Python types to its own equivalent data dtypes\n",
    "int_array = np.arange(10)\n",
    "calibers = np.array([.22, .270, .357, .380, .44, .50], dtype=np.float64)\n",
    "int_array.astype(calibers.dtype)"
   ]
  },
  {
   "cell_type": "code",
   "execution_count": 24,
   "id": "7709103b",
   "metadata": {},
   "outputs": [
    {
     "data": {
      "text/plain": [
       "array([   0,    1,    0,    0, 1332,    0,  768,    0], dtype=uint32)"
      ]
     },
     "execution_count": 24,
     "metadata": {},
     "output_type": "execute_result"
    }
   ],
   "source": [
    "empty_uint32 = np.empty(8, dtype='u4')\n",
    "empty_uint32"
   ]
  },
  {
   "cell_type": "markdown",
   "id": "787abf39",
   "metadata": {},
   "source": [
    "# Basic Indexing and Slicing"
   ]
  },
  {
   "cell_type": "code",
   "execution_count": 40,
   "id": "4b40890f",
   "metadata": {},
   "outputs": [
    {
     "data": {
      "text/plain": [
       "array([[0, 1, 2, 3, 4],\n",
       "       [5, 6, 7, 8, 9]])"
      ]
     },
     "execution_count": 40,
     "metadata": {},
     "output_type": "execute_result"
    }
   ],
   "source": [
    "#one and two dimensional Array\n",
    "data=np.array([0,1,2,3,4,5,6,7,8,9]).reshape(2,5)\n",
    "data"
   ]
  },
  {
   "cell_type": "code",
   "execution_count": null,
   "id": "6c97c9fe",
   "metadata": {},
   "outputs": [],
   "source": []
  }
 ],
 "metadata": {
  "kernelspec": {
   "display_name": "Python 3 (ipykernel)",
   "language": "python",
   "name": "python3"
  },
  "language_info": {
   "codemirror_mode": {
    "name": "ipython",
    "version": 3
   },
   "file_extension": ".py",
   "mimetype": "text/x-python",
   "name": "python",
   "nbconvert_exporter": "python",
   "pygments_lexer": "ipython3",
   "version": "3.9.13"
  }
 },
 "nbformat": 4,
 "nbformat_minor": 5
}
