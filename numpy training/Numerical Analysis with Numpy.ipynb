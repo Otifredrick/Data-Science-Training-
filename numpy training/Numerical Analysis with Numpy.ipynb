{
 "cells": [
  {
   "cell_type": "code",
   "execution_count": 1,
   "id": "ed751162",
   "metadata": {},
   "outputs": [
    {
     "name": "stdout",
     "output_type": "stream",
     "text": [
      "Requirement already satisfied: numpy in c:\\users\\pc\\anaconda3\\envs\\dfre\\lib\\site-packages (1.26.4)Note: you may need to restart the kernel to use updated packages.\n",
      "\n"
     ]
    }
   ],
   "source": [
    "pip install numpy"
   ]
  },
  {
   "cell_type": "code",
   "execution_count": 5,
   "id": "2e8a6efd",
   "metadata": {},
   "outputs": [
    {
     "name": "stdout",
     "output_type": "stream",
     "text": [
      "Collecting tabulate\n",
      "  Downloading tabulate-0.9.0-py3-none-any.whl.metadata (34 kB)\n",
      "Downloading tabulate-0.9.0-py3-none-any.whl (35 kB)\n",
      "Installing collected packages: tabulate\n",
      "Successfully installed tabulate-0.9.0\n",
      "+---------+-------+----------+\n",
      "| Name    |   Age | City     |\n",
      "+=========+=======+==========+\n",
      "| Alice   |    30 | New York |\n",
      "+---------+-------+----------+\n",
      "| Bob     |    22 | Boston   |\n",
      "+---------+-------+----------+\n",
      "| Charlie |    35 | Chicago  |\n",
      "+---------+-------+----------+\n"
     ]
    }
   ],
   "source": [
    "!pip install tabulate\n",
    "from tabulate import tabulate\n",
    "\n",
    "# Your data\n",
    "data = [[\"Name\", \"Age\", \"City\"],\n",
    "        [\"Alice\", 30, \"New York\"],\n",
    "        [\"Bob\", 22, \"Boston\"],\n",
    "        [\"Charlie\", 35, \"Chicago\"]]\n",
    "\n",
    "# Print the table\n",
    "print(tabulate(data, headers=\"firstrow\", tablefmt=\"grid\"))"
   ]
  },
  {
   "cell_type": "code",
   "execution_count": 6,
   "id": "f1ce840e",
   "metadata": {},
   "outputs": [
    {
     "name": "stdout",
     "output_type": "stream",
     "text": [
      "Name | Age | City\n",
      "Alice | 30 | New York\n",
      "Bob | 22 | Boston\n",
      "Charlie | 35 | Chicago\n"
     ]
    }
   ],
   "source": [
    "# Your data\n",
    "data = [[\"Name\", \"Age\", \"City\"],\n",
    "        [\"Alice\", 30, \"New York\"],\n",
    "        [\"Bob\", 22, \"Boston\"],\n",
    "        [\"Charlie\", 35, \"Chicago\"]]\n",
    "\n",
    "# Determine the maximum width of each column\n",
    "widths = [max(map(len, str(column))) for column in zip(*data)]\n",
    "\n",
    "# Print the table\n",
    "for row in data:\n",
    "    print(\" | \".join((str(item).ljust(width) for item, width in zip(row, widths))))"
   ]
  },
  {
   "cell_type": "code",
   "execution_count": 7,
   "id": "5c77aa93",
   "metadata": {},
   "outputs": [],
   "source": [
    "w1,w2,w3=0.3,0.2,0.5"
   ]
  },
  {
   "cell_type": "code",
   "execution_count": 8,
   "id": "7049533c",
   "metadata": {},
   "outputs": [],
   "source": [
    "kanto_temp=73\n",
    "kanto_rainfall=67\n",
    "kanto_humidity=43"
   ]
  },
  {
   "cell_type": "code",
   "execution_count": 9,
   "id": "2c4a018f",
   "metadata": {},
   "outputs": [
    {
     "name": "stdout",
     "output_type": "stream",
     "text": [
      "The expected yield of Apples in Kanto is 56.8 per hectare.\n"
     ]
    }
   ],
   "source": [
    "kanto_yield_apples=kanto_temp*w1+kanto_rainfall*w2+kanto_humidity*w3\n",
    "print(f\"The expected yield of Apples in Kanto is {kanto_yield_apples} per hectare.\")"
   ]
  },
  {
   "cell_type": "code",
   "execution_count": 10,
   "id": "5f73a385",
   "metadata": {},
   "outputs": [
    {
     "name": "stdout",
     "output_type": "stream",
     "text": [
      "{('Shambhavi', 3), ('Astha', 2), ('Nikhil', 1), ('Manjeet', 4)}\n"
     ]
    }
   ],
   "source": [
    "#The zip() function in Python is used to combine two or more iterable dicti-\n",
    "    #onaries into a single iterable, where corresponding elements from the input ite-\n",
    "    #rable are paired together as tuples\n",
    "name = [ \"Manjeet\", \"Nikhil\", \"Shambhavi\", \"Astha\" ]\n",
    "roll_no = [ 4, 1, 3, 2 ]\n",
    " \n",
    "# using zip() to map values\n",
    "mapped = zip(name, roll_no)\n",
    " \n",
    "print(set(mapped))"
   ]
  },
  {
   "cell_type": "code",
   "execution_count": 11,
   "id": "01cd3be6",
   "metadata": {},
   "outputs": [],
   "source": [
    "kanto=[73,67,43]\n",
    "johto=[91,88,64]\n",
    "hoenn=[87,134,58]\n",
    "sinnoh=[102,134,58]\n",
    "unova=[69,96,70]\n",
    "weights=[w1,w2,w3]  "
   ]
  },
  {
   "cell_type": "code",
   "execution_count": 12,
   "id": "ab491036",
   "metadata": {},
   "outputs": [],
   "source": [
    "#performimg the dot product of a vector \n",
    "def crop_yield(region, weights):\n",
    "    result=0\n",
    "    \n",
    "    for x, w in zip(region, weights):\n",
    "        \n",
    "        result+=x*w\n",
    "    return(result) \n",
    "     "
   ]
  },
  {
   "cell_type": "code",
   "execution_count": 13,
   "id": "d165cc9d",
   "metadata": {},
   "outputs": [
    {
     "data": {
      "text/plain": [
       "56.8"
      ]
     },
     "execution_count": 13,
     "metadata": {},
     "output_type": "execute_result"
    }
   ],
   "source": [
    "crop_yield(kanto,weights)"
   ]
  },
  {
   "cell_type": "code",
   "execution_count": 14,
   "id": "d4cba6d0",
   "metadata": {},
   "outputs": [
    {
     "data": {
      "text/plain": [
       "76.9"
      ]
     },
     "execution_count": 14,
     "metadata": {},
     "output_type": "execute_result"
    }
   ],
   "source": [
    "crop_yield(johto, weights)"
   ]
  },
  {
   "cell_type": "code",
   "execution_count": 15,
   "id": "11d2c4ee",
   "metadata": {},
   "outputs": [
    {
     "data": {
      "text/plain": [
       "86.4"
      ]
     },
     "execution_count": 15,
     "metadata": {},
     "output_type": "execute_result"
    }
   ],
   "source": [
    "crop_yield (sinnoh, weights)"
   ]
  },
  {
   "cell_type": "code",
   "execution_count": 16,
   "id": "016ef5ac",
   "metadata": {},
   "outputs": [],
   "source": [
    "# python provides a library that can be used to perform dot products called numpy\n",
    "import numpy as np"
   ]
  },
  {
   "cell_type": "code",
   "execution_count": 17,
   "id": "b962ea04",
   "metadata": {},
   "outputs": [],
   "source": [
    "#before proceeding, it is import to convert all data into arrays\n",
    "#This allows for easy interaction between the data and numpy\n",
    "kanto=np.array([73,67,56])"
   ]
  },
  {
   "cell_type": "code",
   "execution_count": 18,
   "id": "c1db2134",
   "metadata": {},
   "outputs": [
    {
     "data": {
      "text/plain": [
       "array([73, 67, 56])"
      ]
     },
     "execution_count": 18,
     "metadata": {},
     "output_type": "execute_result"
    }
   ],
   "source": [
    "kanto"
   ]
  },
  {
   "cell_type": "code",
   "execution_count": 19,
   "id": "73a8bcc7",
   "metadata": {},
   "outputs": [],
   "source": [
    "weights=np.array([w1,w2,w3])"
   ]
  },
  {
   "cell_type": "code",
   "execution_count": 20,
   "id": "5892d92d",
   "metadata": {},
   "outputs": [
    {
     "data": {
      "text/plain": [
       "numpy.ndarray"
      ]
     },
     "execution_count": 20,
     "metadata": {},
     "output_type": "execute_result"
    }
   ],
   "source": [
    "type(weights)"
   ]
  },
  {
   "cell_type": "code",
   "execution_count": 21,
   "id": "34be69e9",
   "metadata": {},
   "outputs": [
    {
     "data": {
      "text/plain": [
       "0.3"
      ]
     },
     "execution_count": 21,
     "metadata": {},
     "output_type": "execute_result"
    }
   ],
   "source": [
    "#just like lists, array also support indexing notation\n",
    "weights[0]"
   ]
  },
  {
   "cell_type": "code",
   "execution_count": 22,
   "id": "0c606beb",
   "metadata": {},
   "outputs": [
    {
     "data": {
      "text/plain": [
       "63.3"
      ]
     },
     "execution_count": 22,
     "metadata": {},
     "output_type": "execute_result"
    }
   ],
   "source": [
    " #we can now calculate the dot product \n",
    "np.dot(kanto,weights)"
   ]
  },
  {
   "cell_type": "code",
   "execution_count": 23,
   "id": "acc10616",
   "metadata": {},
   "outputs": [
    {
     "data": {
      "text/plain": [
       "array([21.9, 13.4, 28. ])"
      ]
     },
     "execution_count": 23,
     "metadata": {},
     "output_type": "execute_result"
    }
   ],
   "source": [
    "#individual multiplication of the two variables kanto and wights would just give the element-wise multiplication\n",
    "#of the two vectors\n",
    "#example\n",
    "kanto*weights"
   ]
  },
  {
   "cell_type": "code",
   "execution_count": 24,
   "id": "d59b2798",
   "metadata": {},
   "outputs": [
    {
     "data": {
      "text/plain": [
       "63.3"
      ]
     },
     "execution_count": 24,
     "metadata": {},
     "output_type": "execute_result"
    }
   ],
   "source": [
    "#We can also arrive at the dot product by passing the sum()to the above code\n",
    "#example \n",
    "(kanto*weights).sum()"
   ]
  },
  {
   "cell_type": "markdown",
   "id": "3c1a707a",
   "metadata": {},
   "source": [
    "## Multi-dimensional Arrays"
   ]
  },
  {
   "cell_type": "code",
   "execution_count": 25,
   "id": "22db5c07",
   "metadata": {},
   "outputs": [],
   "source": [
    "climate_data=np.array([[72,67,43],\n",
    "             [91,88,64],\n",
    "             [87,134,58],\n",
    "              [102,43,37],\n",
    "              [69,96,70]])"
   ]
  },
  {
   "cell_type": "code",
   "execution_count": 26,
   "id": "42cedc10",
   "metadata": {},
   "outputs": [
    {
     "data": {
      "text/plain": [
       "array([[ 72,  67,  43],\n",
       "       [ 91,  88,  64],\n",
       "       [ 87, 134,  58],\n",
       "       [102,  43,  37],\n",
       "       [ 69,  96,  70]])"
      ]
     },
     "execution_count": 26,
     "metadata": {},
     "output_type": "execute_result"
    }
   ],
   "source": [
    "climate_data"
   ]
  },
  {
   "cell_type": "code",
   "execution_count": 27,
   "id": "8854afa6",
   "metadata": {},
   "outputs": [
    {
     "data": {
      "text/plain": [
       "(5, 3)"
      ]
     },
     "execution_count": 27,
     "metadata": {},
     "output_type": "execute_result"
    }
   ],
   "source": [
    "#2D array(matrix)\n",
    "#checking for the dimension of arrays. The above is a 2 dimensional Array\n",
    "climate_data.shape"
   ]
  },
  {
   "cell_type": "code",
   "execution_count": 28,
   "id": "ed4214f7",
   "metadata": {},
   "outputs": [],
   "source": [
    "#3D array\n",
    "arry1=np.array([[[1,2,3],[2,3,4]], [[4,5,6],[6,8,9]]])"
   ]
  },
  {
   "cell_type": "code",
   "execution_count": 29,
   "id": "2e01a5ba",
   "metadata": {},
   "outputs": [
    {
     "data": {
      "text/plain": [
       "(2, 2, 3)"
      ]
     },
     "execution_count": 29,
     "metadata": {},
     "output_type": "execute_result"
    }
   ],
   "source": [
    "arry1.shape"
   ]
  },
  {
   "cell_type": "code",
   "execution_count": 30,
   "id": "ef5fa01d",
   "metadata": {},
   "outputs": [],
   "source": [
    "#ALL ELEMENTS IN AN ARRAY HAVE THE SAME DATA TYPES\n",
    "#EVEN IF ONLY ONE OF THE ELEMENTS IS A FLOAT, ALL THE OTHER ELEMENTS WILL BE CONVERTED INTO FLOATS."
   ]
  },
  {
   "cell_type": "code",
   "execution_count": 31,
   "id": "9569f85a",
   "metadata": {},
   "outputs": [
    {
     "data": {
      "text/plain": [
       "array([56.5, 76.9, 81.9, 57.7, 74.9])"
      ]
     },
     "execution_count": 31,
     "metadata": {},
     "output_type": "execute_result"
    }
   ],
   "source": [
    "#numpy has it own function that does dot matrix multiplication\n",
    "#the matmul() function \n",
    "np.matmul(climate_data, weights)"
   ]
  },
  {
   "cell_type": "code",
   "execution_count": 32,
   "id": "8d5cfd02",
   "metadata": {},
   "outputs": [
    {
     "data": {
      "text/plain": [
       "array([56.5, 76.9, 81.9, 57.7, 74.9])"
      ]
     },
     "execution_count": 32,
     "metadata": {},
     "output_type": "execute_result"
    }
   ],
   "source": [
    "#another to do the samething is to use the @ character which represent matrix multiplication in numpy\n",
    "#example \n",
    "climate_data @ weights"
   ]
  },
  {
   "cell_type": "markdown",
   "id": "a346d000",
   "metadata": {},
   "source": [
    "# Working with CSV files"
   ]
  },
  {
   "cell_type": "code",
   "execution_count": 33,
   "id": "bb1995bf",
   "metadata": {},
   "outputs": [
    {
     "name": "stdout",
     "output_type": "stream",
     "text": [
      "[[25 76 99]\n",
      " [39 65 70]\n",
      " [59 45 77]\n",
      " [84 63 38]\n",
      " [66 50 52]\n",
      " [41 94 77]\n",
      " [91 57 96]\n",
      " [49 96 99]\n",
      " [67 20 28]\n",
      " [85 31 95]]\n"
     ]
    }
   ],
   "source": [
    "from tabulate import tabulate\n",
    "climate_data2=[[\"temperature\", \"rainfall\",\"humidity\"],\n",
    "              [25,76,99],\n",
    "              [39,65,70],\n",
    "              [59,45,77],\n",
    "              [84,63,38],\n",
    "              [66,50,52],\n",
    "              [41,94,77],\n",
    "              [91,57,96],\n",
    "              [49,96,99],\n",
    "              [67,20,28],\n",
    "              [85,31,95]]\n",
    "# Convert the tabulated data to a CSV-like string\n",
    "climate_data_csv = '\\n'.join([','.join(map(str, row)) for row in climate_data2[1:]])\n",
    "\n",
    "# Now, load the CSV-like string into a NumPy array\n",
    "climate_data = np.genfromtxt(np.array(climate_data_csv.splitlines()), delimiter=',', dtype=None, skip_header=0)\n",
    "\n",
    "print(climate_data)\n"
   ]
  },
  {
   "cell_type": "code",
   "execution_count": 34,
   "id": "27a46778",
   "metadata": {},
   "outputs": [
    {
     "data": {
      "text/plain": [
       "(10, 3)"
      ]
     },
     "execution_count": 34,
     "metadata": {},
     "output_type": "execute_result"
    }
   ],
   "source": [
    "climate_data.shape"
   ]
  },
  {
   "cell_type": "code",
   "execution_count": 35,
   "id": "b4d16824",
   "metadata": {},
   "outputs": [],
   "source": [
    "yields=climate_data@weights"
   ]
  },
  {
   "cell_type": "code",
   "execution_count": 36,
   "id": "d056caf2",
   "metadata": {},
   "outputs": [
    {
     "data": {
      "text/plain": [
       "(10,)"
      ]
     },
     "execution_count": 36,
     "metadata": {},
     "output_type": "execute_result"
    }
   ],
   "source": [
    "yields.shape"
   ]
  },
  {
   "cell_type": "code",
   "execution_count": 37,
   "id": "85349ead",
   "metadata": {},
   "outputs": [
    {
     "data": {
      "text/plain": [
       "array([72.2, 59.7, 65.2, 56.8, 55.8, 69.6, 86.7, 83.4, 38.1, 79.2])"
      ]
     },
     "execution_count": 37,
     "metadata": {},
     "output_type": "execute_result"
    }
   ],
   "source": [
    " yields"
   ]
  },
  {
   "cell_type": "code",
   "execution_count": 38,
   "id": "3f7f7e98",
   "metadata": {},
   "outputs": [
    {
     "data": {
      "text/plain": [
       "array([[25. , 76. , 99. , 72.2],\n",
       "       [39. , 65. , 70. , 59.7],\n",
       "       [59. , 45. , 77. , 65.2],\n",
       "       [84. , 63. , 38. , 56.8],\n",
       "       [66. , 50. , 52. , 55.8],\n",
       "       [41. , 94. , 77. , 69.6],\n",
       "       [91. , 57. , 96. , 86.7],\n",
       "       [49. , 96. , 99. , 83.4],\n",
       "       [67. , 20. , 28. , 38.1],\n",
       "       [85. , 31. , 95. , 79.2]])"
      ]
     },
     "execution_count": 38,
     "metadata": {},
     "output_type": "execute_result"
    }
   ],
   "source": [
    "#to add the yields a column to the climate_data, we use the np.concatenate function\n",
    "#example\n",
    "#The reshape(10,1) function call reshapes the yields array into a 2D array with 10 rows and 1 column. \n",
    "#This is necessary for concatenation because the dimensions of the arrays being concatenated must match along the concatenation axis.\n",
    "climate_results=np.concatenate((climate_data,yields.reshape(10,1)),axis=1)\n",
    "climate_results"
   ]
  },
  {
   "cell_type": "code",
   "execution_count": 39,
   "id": "44b32b15",
   "metadata": {},
   "outputs": [],
   "source": [
    "#'climate_results.txt': This is the filename where the data will be saved.\n",
    "\n",
    "#climate_results: This is the data array to be saved to the file.\n",
    "\n",
    "#fmt='%.2f': This specifies the format string for the data. In this case, it's '%.2f', which means floating-point numbers with two decimal places.\n",
    "\n",
    "#header='temperature,rainfall,humidity,yields_apples': This specifies the header to be written at the beginning of the file. It labels the columns of the data with the corresponding variables: temperature, rainfall, humidity, and yields_apples.\n",
    "\n",
    "#comments='': This specifies that no comment string will be inserted at the beginning of the file.\n",
    "np.savetxt('climate_results.txt',\n",
    "           climate_results,\n",
    "          fmt='%.2f',\n",
    "          header='temperature,rainfall,humidity,yields_apples',\n",
    "          comments='')"
   ]
  },
  {
   "cell_type": "markdown",
   "id": "55a8141b",
   "metadata": {},
   "source": [
    "# Arithmetic Operations and Broadcasting "
   ]
  },
  {
   "cell_type": "code",
   "execution_count": 40,
   "id": "7c307ee7",
   "metadata": {},
   "outputs": [],
   "source": [
    "#numpy arrays allows for broadcasting-arithmetic operations b2n two array having a different number of dimensions, but compatible shapes. \n",
    "#broadcasting only works if one of the arrays can replicated to the dimensionality of the other.\n",
    "#example\n",
    "\n",
    "array2=np.array ([[1,3,4,54],\n",
    "                [4,6,4,6],\n",
    "                [6,7,8,2]])"
   ]
  },
  {
   "cell_type": "code",
   "execution_count": 41,
   "id": "c0b76738",
   "metadata": {},
   "outputs": [
    {
     "data": {
      "text/plain": [
       "(3, 4)"
      ]
     },
     "execution_count": 41,
     "metadata": {},
     "output_type": "execute_result"
    }
   ],
   "source": [
    "array2.shape"
   ]
  },
  {
   "cell_type": "code",
   "execution_count": 42,
   "id": "94c30721",
   "metadata": {},
   "outputs": [],
   "source": [
    "array4=np.array([4,6,7,7])"
   ]
  },
  {
   "cell_type": "code",
   "execution_count": 43,
   "id": "ac7df04a",
   "metadata": {},
   "outputs": [
    {
     "data": {
      "text/plain": [
       "(4,)"
      ]
     },
     "execution_count": 43,
     "metadata": {},
     "output_type": "execute_result"
    }
   ],
   "source": [
    "array4.shape"
   ]
  },
  {
   "cell_type": "code",
   "execution_count": 44,
   "id": "51cabd39",
   "metadata": {},
   "outputs": [
    {
     "data": {
      "text/plain": [
       "array([[ 5,  9, 11, 61],\n",
       "       [ 8, 12, 11, 13],\n",
       "       [10, 13, 15,  9]])"
      ]
     },
     "execution_count": 44,
     "metadata": {},
     "output_type": "execute_result"
    }
   ],
   "source": [
    "array2+array4"
   ]
  },
  {
   "cell_type": "markdown",
   "id": "60e9cae5",
   "metadata": {},
   "source": [
    "# Indexing and slicing with Arrays"
   ]
  },
  {
   "cell_type": "code",
   "execution_count": 45,
   "id": "c8ab4b12",
   "metadata": {},
   "outputs": [],
   "source": [
    "import numpy as np\n",
    "arr1=np.array([[[11,23,12,14],\n",
    "              [14,34,14,18]],\n",
    "             [[13,14,12,15],\n",
    "              [14,17,19,19]],\n",
    "             [[13,15,16,18],\n",
    "              [15,16,19,34]]])\n"
   ]
  },
  {
   "cell_type": "code",
   "execution_count": 46,
   "id": "7eb5e02f",
   "metadata": {},
   "outputs": [
    {
     "data": {
      "text/plain": [
       "19"
      ]
     },
     "execution_count": 46,
     "metadata": {},
     "output_type": "execute_result"
    }
   ],
   "source": [
    "arr1[1,1,2]"
   ]
  },
  {
   "cell_type": "code",
   "execution_count": 47,
   "id": "160faec0",
   "metadata": {},
   "outputs": [
    {
     "data": {
      "text/plain": [
       "array([[[13, 14]],\n",
       "\n",
       "       [[13, 15]]])"
      ]
     },
     "execution_count": 47,
     "metadata": {},
     "output_type": "execute_result"
    }
   ],
   "source": [
    "# 1: means that we taking everything minus the 0th element in the outermost list\n",
    "# 0:1 means only taking index 0 to 1 in the second dimension without the 1\n",
    "#:2 means taking taking upto index[1] in last dimension \n",
    "arr1[1:,0:1,:2]"
   ]
  },
  {
   "cell_type": "code",
   "execution_count": 48,
   "id": "e1eaec8c",
   "metadata": {},
   "outputs": [
    {
     "data": {
      "text/plain": [
       "(3, 2, 4)"
      ]
     },
     "execution_count": 48,
     "metadata": {},
     "output_type": "execute_result"
    }
   ],
   "source": [
    "arr1.shape"
   ]
  },
  {
   "cell_type": "markdown",
   "id": "80ae397d",
   "metadata": {},
   "source": [
    "# Other ways of creating Arrays in Numpy"
   ]
  },
  {
   "cell_type": "code",
   "execution_count": 49,
   "id": "4c796df0",
   "metadata": {},
   "outputs": [
    {
     "data": {
      "text/plain": [
       "array([[[0., 0., 0., 0.],\n",
       "        [0., 0., 0., 0.],\n",
       "        [0., 0., 0., 0.]],\n",
       "\n",
       "       [[0., 0., 0., 0.],\n",
       "        [0., 0., 0., 0.],\n",
       "        [0., 0., 0., 0.]]])"
      ]
     },
     "execution_count": 49,
     "metadata": {},
     "output_type": "execute_result"
    }
   ],
   "source": [
    "#all zeros\n",
    "np.zeros([2,3,4])"
   ]
  },
  {
   "cell_type": "code",
   "execution_count": 50,
   "id": "a2efb2b0",
   "metadata": {},
   "outputs": [
    {
     "data": {
      "text/plain": [
       "array([[1., 0., 0.],\n",
       "       [0., 1., 0.]])"
      ]
     },
     "execution_count": 50,
     "metadata": {},
     "output_type": "execute_result"
    }
   ],
   "source": [
    "# identity matrix\n",
    "np.eye(2,3)"
   ]
  },
  {
   "cell_type": "code",
   "execution_count": 51,
   "id": "3c497640",
   "metadata": {},
   "outputs": [
    {
     "data": {
      "text/plain": [
       "array([0.62992412, 0.69671419, 0.23035424, 0.43837138, 0.84696882])"
      ]
     },
     "execution_count": 51,
     "metadata": {},
     "output_type": "execute_result"
    }
   ],
   "source": [
    "# random vector \n",
    "#generating an array of five random numbers\n",
    "np.random.rand(5)"
   ]
  },
  {
   "cell_type": "code",
   "execution_count": 52,
   "id": "9532999e",
   "metadata": {},
   "outputs": [
    {
     "data": {
      "text/plain": [
       "array([3, 2, 2, 2, 2])"
      ]
     },
     "execution_count": 52,
     "metadata": {},
     "output_type": "execute_result"
    }
   ],
   "source": [
    "# matrix\n",
    "#example: generating and array of five random numbers between 2(inclusive) and 4(exclusive)\n",
    "np.random.randint(2,4,5)"
   ]
  },
  {
   "cell_type": "code",
   "execution_count": 53,
   "id": "14ee5644",
   "metadata": {},
   "outputs": [
    {
     "data": {
      "text/plain": [
       "array([[ 0.84912798,  1.00379191,  1.16482727,  1.2642578 ],\n",
       "       [ 1.64306248,  1.93365082, -1.24146416,  0.22483428]])"
      ]
     },
     "execution_count": 53,
     "metadata": {},
     "output_type": "execute_result"
    }
   ],
   "source": [
    "#a 2x4 array with random numbers drawn from a standard normal distribution (mean 0 and variance 1)\n",
    "np.random.randn(2,4)"
   ]
  },
  {
   "cell_type": "code",
   "execution_count": 54,
   "id": "fcb7e1dc",
   "metadata": {},
   "outputs": [
    {
     "data": {
      "text/plain": [
       "array([[4, 4, 4],\n",
       "       [4, 4, 4]])"
      ]
     },
     "execution_count": 54,
     "metadata": {},
     "output_type": "execute_result"
    }
   ],
   "source": [
    "#creating an array based on a fixed value\n",
    "#example: dim is (2x3):fixed value is 4\n",
    "np.full((2,3), 4)"
   ]
  },
  {
   "cell_type": "code",
   "execution_count": 55,
   "id": "add7fc2d",
   "metadata": {},
   "outputs": [
    {
     "data": {
      "text/plain": [
       "array([ 4,  6,  8, 10, 12, 14, 16, 18])"
      ]
     },
     "execution_count": 55,
     "metadata": {},
     "output_type": "execute_result"
    }
   ],
   "source": [
    "#arranging numbers constantly increasing. \n",
    "#Example: Starts with 4, increases with 2 and ends with 20-2 \n",
    "np.arange(4,20,2)\n"
   ]
  },
  {
   "cell_type": "code",
   "execution_count": 56,
   "id": "426a50a8",
   "metadata": {},
   "outputs": [
    {
     "data": {
      "text/plain": [
       "array([ 3.,  6.,  9., 12., 15., 18., 21., 24., 27.])"
      ]
     },
     "execution_count": 56,
     "metadata": {},
     "output_type": "execute_result"
    }
   ],
   "source": [
    "#Equally  space numbers in a range \n",
    "np.linspace(3,27,9)"
   ]
  },
  {
   "cell_type": "code",
   "execution_count": 57,
   "id": "fa1c9cbb",
   "metadata": {},
   "outputs": [
    {
     "data": {
      "text/plain": [
       "array([[[10, 13, 16],\n",
       "        [19, 22, 25],\n",
       "        [28, 31, 34]],\n",
       "\n",
       "       [[37, 40, 43],\n",
       "        [46, 49, 52],\n",
       "        [55, 58, 61]],\n",
       "\n",
       "       [[64, 67, 70],\n",
       "        [73, 76, 79],\n",
       "        [82, 85, 88]]])"
      ]
     },
     "execution_count": 57,
     "metadata": {},
     "output_type": "execute_result"
    }
   ],
   "source": [
    "np.arange(10,90,3).reshape(3,3,-1)"
   ]
  },
  {
   "cell_type": "code",
   "execution_count": null,
   "id": "e8d4edd7",
   "metadata": {},
   "outputs": [],
   "source": []
  }
 ],
 "metadata": {
  "kernelspec": {
   "display_name": "Python 3 (ipykernel)",
   "language": "python",
   "name": "python3"
  },
  "language_info": {
   "codemirror_mode": {
    "name": "ipython",
    "version": 3
   },
   "file_extension": ".py",
   "mimetype": "text/x-python",
   "name": "python",
   "nbconvert_exporter": "python",
   "pygments_lexer": "ipython3",
   "version": "3.12.2"
  }
 },
 "nbformat": 4,
 "nbformat_minor": 5
}
