{
 "cells": [
  {
   "cell_type": "code",
   "execution_count": 3,
   "id": "5fbd31c6",
   "metadata": {},
   "outputs": [],
   "source": [
    "a_neutral_number=3"
   ]
  },
  {
   "cell_type": "code",
   "execution_count": 4,
   "id": "9894abd2",
   "metadata": {},
   "outputs": [
    {
     "data": {
      "text/plain": [
       "False"
      ]
     },
     "execution_count": 4,
     "metadata": {},
     "output_type": "execute_result"
    }
   ],
   "source": [
    "not a_neutral_number==3"
   ]
  },
  {
   "cell_type": "code",
   "execution_count": 5,
   "id": "4c2088dd",
   "metadata": {},
   "outputs": [],
   "source": [
    "#Calculate the cost of buying all the ebags\n",
    "profit_margin=0.2\n",
    "number_of_bags=500\n",
    "selling_price_per_bag=20"
   ]
  },
  {
   "cell_type": "code",
   "execution_count": 6,
   "id": "5f282863",
   "metadata": {},
   "outputs": [
    {
     "name": "stdout",
     "output_type": "stream",
     "text": [
      "if the store sells bag @20 with a profit margin 0.2 per bag, then total cost of buying all the bags is 12000.0\n"
     ]
    }
   ],
   "source": [
    "cost_per_bag=(profit_margin*100+100)*20/100 \n",
    "total_cost_of_bags=cost_per_bag*number_of_bags\n",
    "output_template=\"\"\"if the store sells bag @{} with a profit margin {} per bag, then total cost of buying all the bags is {}\"\"\"\n",
    "output_message=output_template.format(selling_price_per_bag, profit_margin,total_cost_of_bags)\n",
    "print(output_message)"
   ]
  },
  {
   "cell_type": "code",
   "execution_count": 7,
   "id": "ac17fc0f",
   "metadata": {},
   "outputs": [],
   "source": [
    "person1={\"Name\": \"Fredrick Omondi otieno\",\n",
    "         \"Relationship Status\": \"single\",\n",
    "         \"networth\":\"50k\",  \n",
    "         \"Age\": 32,\n",
    "         \"sex\": \"Male\"\n",
    "         \n",
    "}"
   ]
  },
  {
   "cell_type": "code",
   "execution_count": 8,
   "id": "08d5ddfb",
   "metadata": {},
   "outputs": [
    {
     "data": {
      "text/plain": [
       "{'Name': 'Fredrick Omondi otieno',\n",
       " 'Relationship Status': 'single',\n",
       " 'networth': '50k',\n",
       " 'Age': 32,\n",
       " 'sex': 'Male'}"
      ]
     },
     "execution_count": 8,
     "metadata": {},
     "output_type": "execute_result"
    }
   ],
   "source": [
    "person1"
   ]
  },
  {
   "cell_type": "code",
   "execution_count": 9,
   "id": "6c1c49f9",
   "metadata": {},
   "outputs": [
    {
     "data": {
      "text/plain": [
       "'Fredrick Omondi otieno'"
      ]
     },
     "execution_count": 9,
     "metadata": {},
     "output_type": "execute_result"
    }
   ],
   "source": [
    "person1[\"Name\"]"
   ]
  },
  {
   "cell_type": "code",
   "execution_count": 10,
   "id": "65f78732",
   "metadata": {},
   "outputs": [
    {
     "data": {
      "text/plain": [
       "dict_items([('Name', 'Fredrick Omondi otieno'), ('Relationship Status', 'single'), ('networth', '50k'), ('Age', 32), ('sex', 'Male')])"
      ]
     },
     "execution_count": 10,
     "metadata": {},
     "output_type": "execute_result"
    }
   ],
   "source": [
    "person1.items()"
   ]
  },
  {
   "cell_type": "code",
   "execution_count": 11,
   "id": "c7e5c3f8",
   "metadata": {},
   "outputs": [],
   "source": [
    "new_copy=person1.copy()"
   ]
  },
  {
   "cell_type": "code",
   "execution_count": 12,
   "id": "7a5a6668",
   "metadata": {},
   "outputs": [],
   "source": [
    "new_copy[\"name\"]=\"Leko Lwanne\""
   ]
  },
  {
   "cell_type": "code",
   "execution_count": 13,
   "id": "f7bf6497",
   "metadata": {},
   "outputs": [
    {
     "data": {
      "text/plain": [
       "dict_items([('Name', 'Fredrick Omondi otieno'), ('Relationship Status', 'single'), ('networth', '50k'), ('Age', 32), ('sex', 'Male'), ('name', 'Leko Lwanne')])"
      ]
     },
     "execution_count": 13,
     "metadata": {},
     "output_type": "execute_result"
    }
   ],
   "source": [
    "new_copy.items()"
   ]
  },
  {
   "cell_type": "code",
   "execution_count": 14,
   "id": "ae69e851",
   "metadata": {},
   "outputs": [
    {
     "data": {
      "text/plain": [
       "dict_items([('Name', 'Fredrick Omondi otieno'), ('Relationship Status', 'single'), ('networth', '50k'), ('Age', 32), ('sex', 'Male')])"
      ]
     },
     "execution_count": 14,
     "metadata": {},
     "output_type": "execute_result"
    }
   ],
   "source": [
    "person1.items()"
   ]
  },
  {
   "cell_type": "code",
   "execution_count": 15,
   "id": "919c3606",
   "metadata": {},
   "outputs": [
    {
     "name": "stdout",
     "output_type": "stream",
     "text": [
      "*\n",
      "**\n",
      "***\n",
      "****\n",
      "*****\n",
      "******\n",
      "*******\n",
      "********\n",
      "*********\n",
      "**********\n",
      "***********\n",
      "**********\n",
      "*********\n",
      "********\n",
      "*******\n",
      "******\n",
      "*****\n",
      "****\n",
      "***\n",
      "**\n",
      "*\n"
     ]
    }
   ],
   "source": [
    "line ='*'\n",
    "max_length=10\n",
    "\n",
    "while len(line)<=max_length:\n",
    "    print (line)\n",
    "    line+=\"*\"\n",
    "while len(line)>0:\n",
    "    print (line)\n",
    "    line=line[:-1]"
   ]
  },
  {
   "cell_type": "code",
   "execution_count": 16,
   "id": "552bc08f",
   "metadata": {
    "scrolled": true
   },
   "outputs": [
    {
     "name": "stdout",
     "output_type": "stream",
     "text": [
      "    **********\n",
      "   **********\n",
      "  **********\n",
      " **********\n",
      "**********\n"
     ]
    }
   ],
   "source": [
    "def print_parallelogram(height, width, offset):\n",
    "    for row in range(height):\n",
    "        # Print leading spaces\n",
    "        print(' ' * (offset - row), end='')\n",
    "        \n",
    "        # Print asterisks\n",
    "        print('*' * width)\n",
    "\n",
    "# Example usage\n",
    "print_parallelogram(5, 10, 4)  # Height of 5, width of 10, and offset of 4 spaces\n"
   ]
  },
  {
   "cell_type": "code",
   "execution_count": 17,
   "id": "a8ecc9c0",
   "metadata": {
    "scrolled": true
   },
   "outputs": [
    {
     "name": "stdout",
     "output_type": "stream",
     "text": [
      "    *\n",
      "   ***\n",
      "  *****\n",
      " *******\n",
      "*********\n"
     ]
    }
   ],
   "source": [
    "def print_pyramid(height):\n",
    "    for i in range(height):\n",
    "        # Print leading spaces\n",
    "        print(' ' * (height - i - 1), end='')\n",
    "\n",
    "        # Print asterisks\n",
    "        print('*' * (2 * i + 1))\n",
    "\n",
    "# Example usage\n",
    "print_pyramid(5)  # A pyramid with a height of 5"
   ]
  },
  {
   "cell_type": "code",
   "execution_count": 19,
   "id": "96c615a2",
   "metadata": {},
   "outputs": [
    {
     "name": "stdout",
     "output_type": "stream",
     "text": [
      "The factorial of 5 is 120\n"
     ]
    }
   ],
   "source": [
    "n = 5  # Set the value of n to the number you want the factorial of\n",
    "factorial = 1\n",
    "\n",
    "if n < 0:\n",
    "    print(\"Factorial does not exist for negative numbers\")\n",
    "elif n == 0:\n",
    "    print(\"The factorial of 0 is 1\")\n",
    "else:\n",
    "    for i in range(1, n + 1):\n",
    "        factorial = factorial * i\n",
    "    print(f\"The factorial of {n} is {factorial}\")\n"
   ]
  },
  {
   "cell_type": "code",
   "execution_count": 1,
   "id": "519a2daa",
   "metadata": {},
   "outputs": [
    {
     "name": "stdout",
     "output_type": "stream",
     "text": [
      "first == Geeks\n",
      "mid == for\n",
      "last == Geeks\n"
     ]
    }
   ],
   "source": [
    "def myFun(**kwargs):\n",
    "    for key, value in kwargs.items():\n",
    "        print(\"%s == %s\" % (key, value))\n",
    " \n",
    " \n",
    "# Driver code\n",
    "myFun(first='Geeks', mid='for', last='Geeks')"
   ]
  },
  {
   "cell_type": "code",
   "execution_count": 2,
   "id": "36bb2cb6",
   "metadata": {},
   "outputs": [
    {
     "name": "stdout",
     "output_type": "stream",
     "text": [
      "First argument : Hello\n",
      "Next argument through *argv : Welcome\n",
      "Next argument through *argv : to\n",
      "Next argument through *argv : GeeksforGeeks\n"
     ]
    }
   ],
   "source": [
    " \n",
    "def myFun(arg1, *argv):\n",
    "    print(\"First argument :\", arg1)\n",
    "    for arg in argv:\n",
    "        print(\"Next argument through *argv :\", arg)\n",
    " \n",
    " \n",
    "myFun('Hello', 'Welcome', 'to', 'GeeksforGeeks')"
   ]
  },
  {
   "cell_type": "code",
   "execution_count": 1,
   "id": "84b835e2",
   "metadata": {},
   "outputs": [
    {
     "name": "stdout",
     "output_type": "stream",
     "text": [
      "Python has 002 quote types.\n"
     ]
    }
   ],
   "source": [
    "print('%(language)s has %(number)03d quote types.' %\n",
    "      {'language': \"Python\", \"number\": 2})"
   ]
  },
  {
   "cell_type": "code",
   "execution_count": null,
   "id": "997c585f",
   "metadata": {},
   "outputs": [],
   "source": []
  }
 ],
 "metadata": {
  "kernelspec": {
   "display_name": "Python 3 (ipykernel)",
   "language": "python",
   "name": "python3"
  },
  "language_info": {
   "codemirror_mode": {
    "name": "ipython",
    "version": 3
   },
   "file_extension": ".py",
   "mimetype": "text/x-python",
   "name": "python",
   "nbconvert_exporter": "python",
   "pygments_lexer": "ipython3",
   "version": "3.11.5"
  }
 },
 "nbformat": 4,
 "nbformat_minor": 5
}
